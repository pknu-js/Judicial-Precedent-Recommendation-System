{
 "cells": [
  {
   "cell_type": "markdown",
   "id": "f515edcf",
   "metadata": {},
   "source": [
    "# 판례 크롤링\n",
    "- Data\n",
    "    - 출처 : [법제처](https://www.law.go.kr)\n",
    "    - 개수 : 약 8만개"
   ]
  },
  {
   "cell_type": "markdown",
   "id": "70ae8166",
   "metadata": {},
   "source": [
    "## 1. 패키지 로드"
   ]
  },
  {
   "cell_type": "code",
   "execution_count": 1,
   "id": "1efaefe7",
   "metadata": {},
   "outputs": [],
   "source": [
    "import pandas as pd\n",
    "import requests\n",
    "import xml.etree.ElementTree as tree\n",
    "from tqdm import tqdm_notebook"
   ]
  },
  {
   "cell_type": "code",
   "execution_count": 2,
   "id": "448bf1b9",
   "metadata": {},
   "outputs": [],
   "source": [
    "# 경고문 무시\n",
    "import warnings\n",
    "warnings.filterwarnings('ignore')"
   ]
  },
  {
   "cell_type": "markdown",
   "id": "26d22047",
   "metadata": {},
   "source": [
    "## 2. 판례 크롤링 클래스"
   ]
  },
  {
   "cell_type": "code",
   "execution_count": 3,
   "id": "4730dedd",
   "metadata": {},
   "outputs": [],
   "source": [
    "class PrecedentCrawl:\n",
    "    def __init__(self, oc='wjsrlahrlco', sort='ddes'):\n",
    "        '''생성자'''\n",
    "        self.__oc = oc\n",
    "        self.__sort = sort\n",
    "        self.__prec_list_url = f'https://www.law.go.kr/DRF/lawSearch.do?OC={oc}&target=prec&type=XML&sort={sort}&page={1}'\n",
    "        self.__totalPage = int()\n",
    "        self.__totalCnt = int()\n",
    "        self.__prec_dict = {}\n",
    "    \n",
    "    def start_crawling(self):\n",
    "        '''판례 크롤링 함수'''\n",
    "        \n",
    "        # 1. 판례의 총 개수 추출\n",
    "        prec_list_response = requests.get(self.__prec_list_url)\n",
    "        root = tree.fromstring(prec_list_response.text)\n",
    "        self.__totalCnt = int(root.find('totalCnt').text)\n",
    "        \n",
    "        # 2. 판례의 총 페이지 수 계산\n",
    "        if self.__totalCnt % 20 == 0:\n",
    "            self.__totalPage = self.__totalCnt // 20\n",
    "        else:\n",
    "            self.__totalPage = (self.__totalCnt // 20) + 1\n",
    "        \n",
    "        print(f'총 판례 수\\t:\\t{self.__totalCnt}\\n총 페이지 수\\t:\\t{self.__totalPage}')\n",
    "        \n",
    "        # 3. 판례 크롤링\n",
    "        i = 0\n",
    "\n",
    "        for page in tqdm_notebook(range(1, self.__totalPage + 1)):\n",
    "            for item in root.iter('prec'):\n",
    "                try:\n",
    "                    target_info = {}\n",
    "\n",
    "                    prec_serial_num = item.find('판례일련번호').text\n",
    "\n",
    "                    prec_info_response = requests.get(f\"http://www.law.go.kr/DRF/lawService.do?OC={self.__oc}&target=prec&ID={prec_serial_num}&type=XML\")\n",
    "                    prec_info_root = tree.fromstring(prec_info_response.text)\n",
    "\n",
    "                    target_info['판례일련번호'] = prec_serial_num\n",
    "                    target_info['사건명'] = prec_info_root.find('사건명').text\n",
    "                    target_info['사건번호'] = prec_info_root.find('사건번호').text\n",
    "                    target_info['선고일자'] = prec_info_root.find('선고일자').text\n",
    "                    target_info['선고'] = prec_info_root.find('선고').text\n",
    "                    target_info['법원명'] = prec_info_root.find('법원명').text\n",
    "                    target_info['법원종류코드'] = prec_info_root.find('법원종류코드').text\n",
    "                    target_info['사건종류명'] = prec_info_root.find('사건종류명').text\n",
    "                    target_info['사건종류코드'] = prec_info_root.find('사건종류코드').text\n",
    "                    target_info['판결유형'] = prec_info_root.find('판결유형').text\n",
    "                    target_info['판시사항'] = prec_info_root.find('판시사항').text\n",
    "                    target_info['판결요지'] = prec_info_root.find('판결요지').text\n",
    "                    target_info['참조조문'] = prec_info_root.find('참조조문').text\n",
    "                    target_info['참조판례'] = prec_info_root.find('참조판례').text\n",
    "                    target_info['판례내용'] = prec_info_root.find('판례내용').text\n",
    "\n",
    "                    self.__prec_dict[i] = target_info\n",
    "                    i += 1\n",
    "                except Exception as e:\n",
    "                    print(e)\n",
    "            try:\n",
    "                self.__prec_list_url = f'https://www.law.go.kr/DRF/lawSearch.do?OC={self.__oc}&target=prec&type=XML&sort={self.__sort}&page={page}'\n",
    "                prec_list_response = requests.get(self.__prec_list_url)\n",
    "                root = tree.fromstring(prec_list_response.text)\n",
    "            except Exception as e:\n",
    "                print(e)\n",
    "                \n",
    "        return self.__prec_dict\n",
    "    \n",
    "    def save_judg_precedent(self, prec_dict, filename):\n",
    "        '''판례 저장 함수'''\n",
    "        prec_df = pd.DataFrame.from_dict(prec_dict, orient='index')\n",
    "        prec_df.to_csv(f'{filename}.csv', encoding='utf-8-sig', index=False)\n",
    "        \n",
    "    def run(self, fname):\n",
    "        prec_dict = self.start_crawling()\n",
    "        self.save_judg_precedent(prec_dict=prec_dict, filename=fname)"
   ]
  },
  {
   "cell_type": "markdown",
   "id": "82816ea7",
   "metadata": {},
   "source": [
    "## 3. 실행"
   ]
  },
  {
   "cell_type": "code",
   "execution_count": 4,
   "id": "a18b59f4",
   "metadata": {},
   "outputs": [],
   "source": [
    "# 1. 객체 선언\n",
    "crawling_obj = PrecedentCrawl()"
   ]
  },
  {
   "cell_type": "code",
   "execution_count": null,
   "id": "5bb05b0f",
   "metadata": {},
   "outputs": [],
   "source": [
    "# 2. 크롤링 Start\n",
    "crawling_obj.run(fname=\"precedent.csv\")"
   ]
  }
 ],
 "metadata": {
  "kernelspec": {
   "display_name": "Python 3 (ipykernel)",
   "language": "python",
   "name": "python3"
  },
  "language_info": {
   "codemirror_mode": {
    "name": "ipython",
    "version": 3
   },
   "file_extension": ".py",
   "mimetype": "text/x-python",
   "name": "python",
   "nbconvert_exporter": "python",
   "pygments_lexer": "ipython3",
   "version": "3.9.12"
  }
 },
 "nbformat": 4,
 "nbformat_minor": 5
}
