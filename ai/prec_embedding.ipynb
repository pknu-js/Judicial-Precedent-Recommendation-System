{
 "cells": [
  {
   "cell_type": "markdown",
   "id": "073c35b1",
   "metadata": {},
   "source": [
    "# 판례 임베딩\n",
    "- 사용자의 입력과 코사인 유사도를 비교하기 위한 판례 임베딩\n",
    "- 판례를 미리 임베딩하면 유사도를 비교하는데 드는 시간을 절약할 수 있다."
   ]
  },
  {
   "cell_type": "markdown",
   "id": "c8467796",
   "metadata": {},
   "source": [
    "## 1. 패키지 로드"
   ]
  },
  {
   "cell_type": "code",
   "execution_count": 1,
   "id": "8930a9ad",
   "metadata": {},
   "outputs": [],
   "source": [
    "import pandas as pd\n",
    "import numpy as np\n",
    "\n",
    "from gensim import models\n",
    "from ko_preprocessing import K_preprocessing\n",
    "from prec_preprocessing import PrecedentPrcs"
   ]
  },
  {
   "cell_type": "markdown",
   "id": "37a8aa8c",
   "metadata": {},
   "source": [
    "## 2. 판례 데이터 로드"
   ]
  },
  {
   "cell_type": "code",
   "execution_count": 2,
   "id": "2ded35b1",
   "metadata": {
    "scrolled": true
   },
   "outputs": [
    {
     "data": {
      "text/html": [
       "<div>\n",
       "<style scoped>\n",
       "    .dataframe tbody tr th:only-of-type {\n",
       "        vertical-align: middle;\n",
       "    }\n",
       "\n",
       "    .dataframe tbody tr th {\n",
       "        vertical-align: top;\n",
       "    }\n",
       "\n",
       "    .dataframe thead th {\n",
       "        text-align: right;\n",
       "    }\n",
       "</style>\n",
       "<table border=\"1\" class=\"dataframe\">\n",
       "  <thead>\n",
       "    <tr style=\"text-align: right;\">\n",
       "      <th></th>\n",
       "      <th>판례일련번호</th>\n",
       "      <th>사건명</th>\n",
       "      <th>사건번호</th>\n",
       "      <th>선고일자</th>\n",
       "      <th>선고</th>\n",
       "      <th>법원명</th>\n",
       "      <th>법원종류코드</th>\n",
       "      <th>사건종류명</th>\n",
       "      <th>사건종류코드</th>\n",
       "      <th>판결유형</th>\n",
       "      <th>판시사항</th>\n",
       "      <th>판결요지</th>\n",
       "      <th>참조조문</th>\n",
       "      <th>참조판례</th>\n",
       "      <th>판례내용</th>\n",
       "    </tr>\n",
       "  </thead>\n",
       "  <tbody>\n",
       "    <tr>\n",
       "      <th>0</th>\n",
       "      <td>220283</td>\n",
       "      <td>미성년자의제강간</td>\n",
       "      <td>2021노824</td>\n",
       "      <td>20220415.0</td>\n",
       "      <td>선고</td>\n",
       "      <td>수원고법</td>\n",
       "      <td>400202.0</td>\n",
       "      <td>형사</td>\n",
       "      <td>400102.0</td>\n",
       "      <td>판결 : 확정</td>\n",
       "      <td>피고인이 카카오톡 오픈채팅방을 통해 미성년자 甲(여, 11세)을 알게 된 후 당...</td>\n",
       "      <td>피고인이 카카오톡 오픈채팅방을 통해 미성년자 甲(여, 11세)을 알게 된 후 당...</td>\n",
       "      <td>구 형법(2020. 5. 19. 법률 제17265호로 개정되기 전의 것) 제305조...</td>\n",
       "      <td>NaN</td>\n",
       "      <td>【피 고 인】 피고인【항 소 인】 쌍방【검    사】 이지은 외 1인【변 호 인】 ...</td>\n",
       "    </tr>\n",
       "    <tr>\n",
       "      <th>1</th>\n",
       "      <td>220263</td>\n",
       "      <td>소송비용액확정</td>\n",
       "      <td>2022브2061</td>\n",
       "      <td>20220411.0</td>\n",
       "      <td>자</td>\n",
       "      <td>서울고등법원</td>\n",
       "      <td>400202.0</td>\n",
       "      <td>가사</td>\n",
       "      <td>400103.0</td>\n",
       "      <td>결정</td>\n",
       "      <td>NaN</td>\n",
       "      <td>NaN</td>\n",
       "      <td>가사소송법 제37조의2, 제63조 제1항, 가사소송규칙 제95조 제1항, 구 변호사...</td>\n",
       "      <td>NaN</td>\n",
       "      <td>【신청인, 피항고인】 신청인【피신청인, 항고인】 피신청인【제1심결정】 서울가정법원 ...</td>\n",
       "    </tr>\n",
       "    <tr>\n",
       "      <th>2</th>\n",
       "      <td>220249</td>\n",
       "      <td>손해배상(기)</td>\n",
       "      <td>2021나24173</td>\n",
       "      <td>20220323.0</td>\n",
       "      <td>선고</td>\n",
       "      <td>대구고법</td>\n",
       "      <td>400202.0</td>\n",
       "      <td>민사</td>\n",
       "      <td>400101.0</td>\n",
       "      <td>판결 : 확정</td>\n",
       "      <td>甲이 乙을 상대로 소송을 제기하자 乙이 丙과 소송위임계약을 체결하여 丙이 乙을 ...</td>\n",
       "      <td>甲이 乙을 상대로 소송을 제기하자 乙이 丙과 소송위임계약을 체결하여 丙이 乙을 ...</td>\n",
       "      <td>민법 제390조, 제681조, 민사소송법 제225조, 제226조, 제231조</td>\n",
       "      <td>NaN</td>\n",
       "      <td>【원고, 항소인 겸 피항소인】 원고 (소송대리인 법무법인 우정 담당변호사 김병구 외...</td>\n",
       "    </tr>\n",
       "    <tr>\n",
       "      <th>3</th>\n",
       "      <td>220261</td>\n",
       "      <td>소송비용액확정</td>\n",
       "      <td>2020스507</td>\n",
       "      <td>20220322.0</td>\n",
       "      <td>자</td>\n",
       "      <td>대법원</td>\n",
       "      <td>400201.0</td>\n",
       "      <td>가사</td>\n",
       "      <td>400103.0</td>\n",
       "      <td>결정</td>\n",
       "      <td>마류 가사비송사건에서 변호사보수가 절차비용에 산입되는지 여부(적극)</td>\n",
       "      <td>NaN</td>\n",
       "      <td>가사소송법 제37조의2, 가사소송규칙 제95조 제1항, 구 변호사보수의 소송비용 산...</td>\n",
       "      <td>NaN</td>\n",
       "      <td>【신청인(재심상대방), 재항고인】 신청인(재심상대방) (소송대리인 법무법인(유한) ...</td>\n",
       "    </tr>\n",
       "    <tr>\n",
       "      <th>4</th>\n",
       "      <td>220241</td>\n",
       "      <td>손해배상(의)[환자가 치료 도중 뇌출혈로 사망하자 의료과실에 의한 손해배상을 구하는...</td>\n",
       "      <td>2018다263434</td>\n",
       "      <td>20220317.0</td>\n",
       "      <td>선고</td>\n",
       "      <td>대법원</td>\n",
       "      <td>400201.0</td>\n",
       "      <td>민사</td>\n",
       "      <td>400101.0</td>\n",
       "      <td>판결</td>\n",
       "      <td>의사가 의료행위를 할 때 취하여야 할 주의의무의 정도 및 기준 / 특히 환자가 ...</td>\n",
       "      <td>의사가 진찰·치료 등의 의료행위를 할 때에는 사람의 생명·신체·건강을 관리하는 ...</td>\n",
       "      <td>민법 제390조, 제750조\\n</td>\n",
       "      <td>대법원 2018. 11. 29. 선고 2016다266606, 266613 판결(공2...</td>\n",
       "      <td>【원고, 상고인】 원고 1 외 2인 (소송대리인 변호사 신현호 외 4인)【피고, 피...</td>\n",
       "    </tr>\n",
       "  </tbody>\n",
       "</table>\n",
       "</div>"
      ],
      "text/plain": [
       "   판례일련번호  ...                                               판례내용\n",
       "0  220283  ...  【피 고 인】 피고인【항 소 인】 쌍방【검    사】 이지은 외 1인【변 호 인】 ...\n",
       "1  220263  ...  【신청인, 피항고인】 신청인【피신청인, 항고인】 피신청인【제1심결정】 서울가정법원 ...\n",
       "2  220249  ...  【원고, 항소인 겸 피항소인】 원고 (소송대리인 법무법인 우정 담당변호사 김병구 외...\n",
       "3  220261  ...  【신청인(재심상대방), 재항고인】 신청인(재심상대방) (소송대리인 법무법인(유한) ...\n",
       "4  220241  ...  【원고, 상고인】 원고 1 외 2인 (소송대리인 변호사 신현호 외 4인)【피고, 피...\n",
       "\n",
       "[5 rows x 15 columns]"
      ]
     },
     "execution_count": 2,
     "metadata": {},
     "output_type": "execute_result"
    }
   ],
   "source": [
    "prec_df = pd.read_csv(\"../data/prec_data.csv\", encoding='utf-8-sig')\n",
    "prec_df.head()"
   ]
  },
  {
   "cell_type": "markdown",
   "id": "7fa435c0",
   "metadata": {},
   "source": [
    "## 3. FastText 모델 로드"
   ]
  },
  {
   "cell_type": "code",
   "execution_count": 3,
   "id": "65adc3b1",
   "metadata": {
    "scrolled": true
   },
   "outputs": [
    {
     "name": "stderr",
     "output_type": "stream",
     "text": [
      "[Korean Sentence Splitter]: failed to decode invalid unicode bytes b'\\xed\\xa1\\x9c'; replacing invalid characters, using '\\\\xed\\\\xa1\\\\x9c'\n",
      "[Korean Sentence Splitter]: failed to decode invalid unicode bytes b'\\xed\\xb0\\x80'; replacing invalid characters, using '\\\\xed\\\\xb0\\\\x80'\n",
      "[Korean Sentence Splitter]: failed to decode invalid unicode bytes b'\\xed\\xa7\\x80'; replacing invalid characters, using '\\\\xed\\\\xa7\\\\x80'\n",
      "[Korean Sentence Splitter]: failed to decode invalid unicode bytes b'\\xed\\xb8\\xb0'; replacing invalid characters, using '\\\\xed\\\\xb8\\\\xb0'\n",
      "[Korean Sentence Splitter]: failed to decode invalid unicode bytes b'\\xed\\xa0\\x9c'; replacing invalid characters, using '\\\\xed\\\\xa0\\\\x9c'\n",
      "[Korean Sentence Splitter]: failed to decode invalid unicode bytes b'\\xed\\xa6\\xac'; replacing invalid characters, using '\\\\xed\\\\xa6\\\\xac'\n",
      "[Korean Sentence Splitter]: failed to decode invalid unicode bytes b'\\xed\\xb3\\xb5'; replacing invalid characters, using '\\\\xed\\\\xb3\\\\xb5'\n",
      "[Korean Sentence Splitter]: failed to decode invalid unicode bytes b'\\xed\\xb3\\xb4'; replacing invalid characters, using '\\\\xed\\\\xb3\\\\xb4'\n",
      "[Korean Sentence Splitter]: failed to decode invalid unicode bytes b'\\xed\\xa5\\xbc'; replacing invalid characters, using '\\\\xed\\\\xa5\\\\xbc'\n",
      "[Korean Sentence Splitter]: failed to decode invalid unicode bytes b'\\xed\\xb3\\xa0'; replacing invalid characters, using '\\\\xed\\\\xb3\\\\xa0'\n",
      "[Korean Sentence Splitter]: failed to decode invalid unicode bytes b'\\xed\\xa0\\x84'; replacing invalid characters, using '\\\\xed\\\\xa0\\\\x84'\n",
      "[Korean Sentence Splitter]: failed to decode invalid unicode bytes b'\\xed\\xa0\\x95'; replacing invalid characters, using '\\\\xed\\\\xa0\\\\x95'\n"
     ]
    }
   ],
   "source": [
    "fasttext_model = models.fasttext.load_facebook_model('../FastText/pre_trained_fasttext/cc.ko.300.bin')"
   ]
  },
  {
   "cell_type": "markdown",
   "id": "214a6e98",
   "metadata": {},
   "source": [
    "## 4. 임베딩"
   ]
  },
  {
   "cell_type": "markdown",
   "id": "6c557d30",
   "metadata": {},
   "source": [
    "### 1) 판례 기본 전처리"
   ]
  },
  {
   "cell_type": "code",
   "execution_count": 4,
   "id": "7c31fae8",
   "metadata": {},
   "outputs": [],
   "source": [
    "prec_preprocess_obj = PrecedentPrcs()"
   ]
  },
  {
   "cell_type": "code",
   "execution_count": 5,
   "id": "3416438b",
   "metadata": {},
   "outputs": [
    {
     "name": "stderr",
     "output_type": "stream",
     "text": [
      "D:\\Judg-Precedent-project\\version_0.1\\Embedding\\prec_preprocessing.py:69: FutureWarning: The default value of regex will change from True to False in a future version.\n",
      "  df['선고일자'] = df['선고일자'].str.replace('[^0-9]', '')\n",
      "D:\\Judg-Precedent-project\\version_0.1\\Embedding\\prec_preprocessing.py:92: GuessedAtParserWarning: No parser was explicitly specified, so I'm using the best available HTML parser for this system (\"lxml\"). This usually isn't a problem, but if you run this code on another system, or in a different virtual environment, it may use a different parser and behave differently.\n",
      "\n",
      "The code that caused this warning is on line 92 of the file D:\\Judg-Precedent-project\\version_0.1\\Embedding\\prec_preprocessing.py. To get rid of this warning, pass the additional argument 'features=\"lxml\"' to the BeautifulSoup constructor.\n",
      "\n",
      "  soup = BeautifulSoup(x)\n"
     ]
    }
   ],
   "source": [
    "pr_prec_df = prec_preprocess_obj.run(prec_df)"
   ]
  },
  {
   "cell_type": "code",
   "execution_count": 6,
   "id": "e25f5ca9",
   "metadata": {
    "scrolled": true
   },
   "outputs": [
    {
     "data": {
      "text/html": [
       "<div>\n",
       "<style scoped>\n",
       "    .dataframe tbody tr th:only-of-type {\n",
       "        vertical-align: middle;\n",
       "    }\n",
       "\n",
       "    .dataframe tbody tr th {\n",
       "        vertical-align: top;\n",
       "    }\n",
       "\n",
       "    .dataframe thead th {\n",
       "        text-align: right;\n",
       "    }\n",
       "</style>\n",
       "<table border=\"1\" class=\"dataframe\">\n",
       "  <thead>\n",
       "    <tr style=\"text-align: right;\">\n",
       "      <th></th>\n",
       "      <th>판례일련번호</th>\n",
       "      <th>사건명</th>\n",
       "      <th>사건번호</th>\n",
       "      <th>선고일자</th>\n",
       "      <th>선고</th>\n",
       "      <th>법원명</th>\n",
       "      <th>법원종류코드</th>\n",
       "      <th>사건종류명</th>\n",
       "      <th>사건종류코드</th>\n",
       "      <th>판결유형</th>\n",
       "      <th>판시사항</th>\n",
       "      <th>판결요지</th>\n",
       "      <th>참조조문</th>\n",
       "      <th>참조판례</th>\n",
       "      <th>판례내용</th>\n",
       "    </tr>\n",
       "  </thead>\n",
       "  <tbody>\n",
       "    <tr>\n",
       "      <th>0</th>\n",
       "      <td>220283</td>\n",
       "      <td>미성년자의제강간</td>\n",
       "      <td>2021노824</td>\n",
       "      <td>None</td>\n",
       "      <td>선고</td>\n",
       "      <td>수원고법</td>\n",
       "      <td>400202</td>\n",
       "      <td>형사</td>\n",
       "      <td>400102</td>\n",
       "      <td>판결 : 확정</td>\n",
       "      <td>피고인이 카카오톡 오픈채팅방을 통해 미성년자 甲(여, 11세)을 알게 된 후 당...</td>\n",
       "      <td>피고인이 카카오톡 오픈채팅방을 통해 미성년자 甲(여, 11세)을 알게 된 후 당...</td>\n",
       "      <td>구 형법(2020. 5. 19. 법률 제17265호로 개정되기 전의 것) 제305조...</td>\n",
       "      <td>없음</td>\n",
       "      <td>【피 고 인】 피고인【항 소 인】 쌍방【검    사】 이지은 외 1인【변 호 인】 ...</td>\n",
       "    </tr>\n",
       "    <tr>\n",
       "      <th>1</th>\n",
       "      <td>220263</td>\n",
       "      <td>소송비용액확정</td>\n",
       "      <td>2022브2061</td>\n",
       "      <td>None</td>\n",
       "      <td>자</td>\n",
       "      <td>서울고등법원</td>\n",
       "      <td>400202</td>\n",
       "      <td>가사</td>\n",
       "      <td>400103</td>\n",
       "      <td>결정</td>\n",
       "      <td>미기재</td>\n",
       "      <td>미기재</td>\n",
       "      <td>가사소송법 제37조의2, 제63조 제1항, 가사소송규칙 제95조 제1항, 구 변호사...</td>\n",
       "      <td>없음</td>\n",
       "      <td>【신청인, 피항고인】 신청인【피신청인, 항고인】 피신청인【제1심결정】 서울가정법원 ...</td>\n",
       "    </tr>\n",
       "    <tr>\n",
       "      <th>2</th>\n",
       "      <td>220249</td>\n",
       "      <td>손해배상(기)</td>\n",
       "      <td>2021나24173</td>\n",
       "      <td>None</td>\n",
       "      <td>선고</td>\n",
       "      <td>대구고법</td>\n",
       "      <td>400202</td>\n",
       "      <td>민사</td>\n",
       "      <td>400101</td>\n",
       "      <td>판결 : 확정</td>\n",
       "      <td>甲이 乙을 상대로 소송을 제기하자 乙이 丙과 소송위임계약을 체결하여 丙이 乙을 ...</td>\n",
       "      <td>甲이 乙을 상대로 소송을 제기하자 乙이 丙과 소송위임계약을 체결하여 丙이 乙을 ...</td>\n",
       "      <td>민법 제390조, 제681조, 민사소송법 제225조, 제226조, 제231조</td>\n",
       "      <td>없음</td>\n",
       "      <td>【원고, 항소인 겸 피항소인】 원고 (소송대리인 법무법인 우정 담당변호사 김병구 외...</td>\n",
       "    </tr>\n",
       "    <tr>\n",
       "      <th>3</th>\n",
       "      <td>220261</td>\n",
       "      <td>소송비용액확정</td>\n",
       "      <td>2020스507</td>\n",
       "      <td>None</td>\n",
       "      <td>자</td>\n",
       "      <td>대법원</td>\n",
       "      <td>400201</td>\n",
       "      <td>가사</td>\n",
       "      <td>400103</td>\n",
       "      <td>결정</td>\n",
       "      <td>마류 가사비송사건에서 변호사보수가 절차비용에 산입되는지 여부(적극)</td>\n",
       "      <td>미기재</td>\n",
       "      <td>가사소송법 제37조의2, 가사소송규칙 제95조 제1항, 구 변호사보수의 소송비용 산...</td>\n",
       "      <td>없음</td>\n",
       "      <td>【신청인(재심상대방), 재항고인】 신청인(재심상대방) (소송대리인 법무법인(유한) ...</td>\n",
       "    </tr>\n",
       "    <tr>\n",
       "      <th>4</th>\n",
       "      <td>220241</td>\n",
       "      <td>손해배상(의)[환자가 치료 도중 뇌출혈로 사망하자 의료과실에 의한 손해배상을 구하는...</td>\n",
       "      <td>2018다263434</td>\n",
       "      <td>None</td>\n",
       "      <td>선고</td>\n",
       "      <td>대법원</td>\n",
       "      <td>400201</td>\n",
       "      <td>민사</td>\n",
       "      <td>400101</td>\n",
       "      <td>판결</td>\n",
       "      <td>의사가 의료행위를 할 때 취하여야 할 주의의무의 정도 및 기준 / 특히 환자가 ...</td>\n",
       "      <td>의사가 진찰·치료 등의 의료행위를 할 때에는 사람의 생명·신체·건강을 관리하는 ...</td>\n",
       "      <td>민법 제390조, 제750조\\n</td>\n",
       "      <td></td>\n",
       "      <td>【원고, 상고인】 원고 1 외 2인 (소송대리인 변호사 신현호 외 4인)【피고, 피...</td>\n",
       "    </tr>\n",
       "  </tbody>\n",
       "</table>\n",
       "</div>"
      ],
      "text/plain": [
       "   판례일련번호                                                사건명  ... 참조판례                                               판례내용\n",
       "0  220283                                           미성년자의제강간  ...   없음  【피 고 인】 피고인【항 소 인】 쌍방【검    사】 이지은 외 1인【변 호 인】 ...\n",
       "1  220263                                            소송비용액확정  ...   없음  【신청인, 피항고인】 신청인【피신청인, 항고인】 피신청인【제1심결정】 서울가정법원 ...\n",
       "2  220249                                            손해배상(기)  ...   없음  【원고, 항소인 겸 피항소인】 원고 (소송대리인 법무법인 우정 담당변호사 김병구 외...\n",
       "3  220261                                            소송비용액확정  ...   없음  【신청인(재심상대방), 재항고인】 신청인(재심상대방) (소송대리인 법무법인(유한) ...\n",
       "4  220241  손해배상(의)[환자가 치료 도중 뇌출혈로 사망하자 의료과실에 의한 손해배상을 구하는...  ...       【원고, 상고인】 원고 1 외 2인 (소송대리인 변호사 신현호 외 4인)【피고, 피...\n",
       "\n",
       "[5 rows x 15 columns]"
      ]
     },
     "execution_count": 6,
     "metadata": {},
     "output_type": "execute_result"
    }
   ],
   "source": [
    "pr_prec_df.head()"
   ]
  },
  {
   "cell_type": "markdown",
   "id": "c5319660",
   "metadata": {},
   "source": [
    "### 2) 문장 토큰화"
   ]
  },
  {
   "cell_type": "code",
   "execution_count": 7,
   "id": "a59198e7",
   "metadata": {
    "scrolled": true
   },
   "outputs": [
    {
     "name": "stderr",
     "output_type": "stream",
     "text": [
      "[Korean Sentence Splitter]: Initializing Pynori...\n"
     ]
    },
    {
     "name": "stdout",
     "output_type": "stream",
     "text": [
      "Wall time: 0 ns\n"
     ]
    },
    {
     "ename": "KeyboardInterrupt",
     "evalue": "",
     "output_type": "error",
     "traceback": [
      "\u001b[1;31m---------------------------------------------------------------------------\u001b[0m",
      "\u001b[1;31mKeyboardInterrupt\u001b[0m                         Traceback (most recent call last)",
      "\u001b[1;32m~\\AppData\\Local\\Temp\\ipykernel_10908\\1213719488.py\u001b[0m in \u001b[0;36m<module>\u001b[1;34m\u001b[0m\n\u001b[0;32m      1\u001b[0m \u001b[0mget_ipython\u001b[0m\u001b[1;33m(\u001b[0m\u001b[1;33m)\u001b[0m\u001b[1;33m.\u001b[0m\u001b[0mrun_line_magic\u001b[0m\u001b[1;33m(\u001b[0m\u001b[1;34m'time'\u001b[0m\u001b[1;33m,\u001b[0m \u001b[1;34m''\u001b[0m\u001b[1;33m)\u001b[0m\u001b[1;33m\u001b[0m\u001b[1;33m\u001b[0m\u001b[0m\n\u001b[1;32m----> 2\u001b[1;33m \u001b[0mprec_tokened_sentences\u001b[0m \u001b[1;33m=\u001b[0m \u001b[0mpr_prec_df\u001b[0m\u001b[1;33m[\u001b[0m\u001b[1;34m'판례내용'\u001b[0m\u001b[1;33m]\u001b[0m\u001b[1;33m.\u001b[0m\u001b[0mapply\u001b[0m\u001b[1;33m(\u001b[0m\u001b[0mK_preprocessing\u001b[0m\u001b[1;33m.\u001b[0m\u001b[0mtokenize_sent\u001b[0m\u001b[1;33m)\u001b[0m\u001b[1;33m\u001b[0m\u001b[1;33m\u001b[0m\u001b[0m\n\u001b[0m",
      "\u001b[1;32m~\\anaconda3\\envs\\capstone\\lib\\site-packages\\pandas\\core\\series.py\u001b[0m in \u001b[0;36mapply\u001b[1;34m(self, func, convert_dtype, args, **kwargs)\u001b[0m\n\u001b[0;32m   4355\u001b[0m         \u001b[0mdtype\u001b[0m\u001b[1;33m:\u001b[0m \u001b[0mfloat64\u001b[0m\u001b[1;33m\u001b[0m\u001b[1;33m\u001b[0m\u001b[0m\n\u001b[0;32m   4356\u001b[0m         \"\"\"\n\u001b[1;32m-> 4357\u001b[1;33m         \u001b[1;32mreturn\u001b[0m \u001b[0mSeriesApply\u001b[0m\u001b[1;33m(\u001b[0m\u001b[0mself\u001b[0m\u001b[1;33m,\u001b[0m \u001b[0mfunc\u001b[0m\u001b[1;33m,\u001b[0m \u001b[0mconvert_dtype\u001b[0m\u001b[1;33m,\u001b[0m \u001b[0margs\u001b[0m\u001b[1;33m,\u001b[0m \u001b[0mkwargs\u001b[0m\u001b[1;33m)\u001b[0m\u001b[1;33m.\u001b[0m\u001b[0mapply\u001b[0m\u001b[1;33m(\u001b[0m\u001b[1;33m)\u001b[0m\u001b[1;33m\u001b[0m\u001b[1;33m\u001b[0m\u001b[0m\n\u001b[0m\u001b[0;32m   4358\u001b[0m \u001b[1;33m\u001b[0m\u001b[0m\n\u001b[0;32m   4359\u001b[0m     def _reduce(\n",
      "\u001b[1;32m~\\anaconda3\\envs\\capstone\\lib\\site-packages\\pandas\\core\\apply.py\u001b[0m in \u001b[0;36mapply\u001b[1;34m(self)\u001b[0m\n\u001b[0;32m   1041\u001b[0m             \u001b[1;32mreturn\u001b[0m \u001b[0mself\u001b[0m\u001b[1;33m.\u001b[0m\u001b[0mapply_str\u001b[0m\u001b[1;33m(\u001b[0m\u001b[1;33m)\u001b[0m\u001b[1;33m\u001b[0m\u001b[1;33m\u001b[0m\u001b[0m\n\u001b[0;32m   1042\u001b[0m \u001b[1;33m\u001b[0m\u001b[0m\n\u001b[1;32m-> 1043\u001b[1;33m         \u001b[1;32mreturn\u001b[0m \u001b[0mself\u001b[0m\u001b[1;33m.\u001b[0m\u001b[0mapply_standard\u001b[0m\u001b[1;33m(\u001b[0m\u001b[1;33m)\u001b[0m\u001b[1;33m\u001b[0m\u001b[1;33m\u001b[0m\u001b[0m\n\u001b[0m\u001b[0;32m   1044\u001b[0m \u001b[1;33m\u001b[0m\u001b[0m\n\u001b[0;32m   1045\u001b[0m     \u001b[1;32mdef\u001b[0m \u001b[0magg\u001b[0m\u001b[1;33m(\u001b[0m\u001b[0mself\u001b[0m\u001b[1;33m)\u001b[0m\u001b[1;33m:\u001b[0m\u001b[1;33m\u001b[0m\u001b[1;33m\u001b[0m\u001b[0m\n",
      "\u001b[1;32m~\\anaconda3\\envs\\capstone\\lib\\site-packages\\pandas\\core\\apply.py\u001b[0m in \u001b[0;36mapply_standard\u001b[1;34m(self)\u001b[0m\n\u001b[0;32m   1099\u001b[0m                     \u001b[0mvalues\u001b[0m\u001b[1;33m,\u001b[0m\u001b[1;33m\u001b[0m\u001b[1;33m\u001b[0m\u001b[0m\n\u001b[0;32m   1100\u001b[0m                     \u001b[0mf\u001b[0m\u001b[1;33m,\u001b[0m  \u001b[1;31m# type: ignore[arg-type]\u001b[0m\u001b[1;33m\u001b[0m\u001b[1;33m\u001b[0m\u001b[0m\n\u001b[1;32m-> 1101\u001b[1;33m                     \u001b[0mconvert\u001b[0m\u001b[1;33m=\u001b[0m\u001b[0mself\u001b[0m\u001b[1;33m.\u001b[0m\u001b[0mconvert_dtype\u001b[0m\u001b[1;33m,\u001b[0m\u001b[1;33m\u001b[0m\u001b[1;33m\u001b[0m\u001b[0m\n\u001b[0m\u001b[0;32m   1102\u001b[0m                 )\n\u001b[0;32m   1103\u001b[0m \u001b[1;33m\u001b[0m\u001b[0m\n",
      "\u001b[1;32m~\\anaconda3\\envs\\capstone\\lib\\site-packages\\pandas\\_libs\\lib.pyx\u001b[0m in \u001b[0;36mpandas._libs.lib.map_infer\u001b[1;34m()\u001b[0m\n",
      "\u001b[1;32mD:\\Judg-Precedent-project\\version_0.1\\Embedding\\ko_preprocessing.py\u001b[0m in \u001b[0;36mtokenize_sent\u001b[1;34m(self, document)\u001b[0m\n\u001b[0;32m     35\u001b[0m \u001b[0m문장\u001b[0m \u001b[0m토큰화된\u001b[0m \u001b[0m리스트\u001b[0m \u001b[1;33m:\u001b[0m \u001b[0mList\u001b[0m\u001b[1;33m\u001b[0m\u001b[1;33m\u001b[0m\u001b[0m\n\u001b[0;32m     36\u001b[0m '''\n\u001b[1;32m---> 37\u001b[1;33m         \u001b[1;32mreturn\u001b[0m \u001b[0msplit_sentences\u001b[0m\u001b[1;33m(\u001b[0m\u001b[0mdocument\u001b[0m\u001b[1;33m)\u001b[0m\u001b[1;33m\u001b[0m\u001b[1;33m\u001b[0m\u001b[0m\n\u001b[0m\u001b[0;32m     38\u001b[0m \u001b[1;33m\u001b[0m\u001b[0m\n\u001b[0;32m     39\u001b[0m     \u001b[1;33m@\u001b[0m\u001b[0mclassmethod\u001b[0m\u001b[1;33m\u001b[0m\u001b[1;33m\u001b[0m\u001b[0m\n",
      "\u001b[1;32m~\\anaconda3\\envs\\capstone\\lib\\site-packages\\kss\\kss.py\u001b[0m in \u001b[0;36msplit_sentences\u001b[1;34m(text, use_heuristic, use_quotes_brackets_processing, max_recover_step, max_recover_length, backend, num_workers, disable_gc, disable_mp_post_process)\u001b[0m\n\u001b[0;32m    186\u001b[0m                 \u001b[0mbackend\u001b[0m\u001b[1;33m=\u001b[0m\u001b[0mbackend\u001b[0m\u001b[1;33m,\u001b[0m\u001b[1;33m\u001b[0m\u001b[1;33m\u001b[0m\u001b[0m\n\u001b[0;32m    187\u001b[0m             )\n\u001b[1;32m--> 188\u001b[1;33m             \u001b[1;32mfor\u001b[0m \u001b[0mt\u001b[0m \u001b[1;32min\u001b[0m \u001b[0mmp_input_texts\u001b[0m\u001b[1;33m\u001b[0m\u001b[1;33m\u001b[0m\u001b[0m\n\u001b[0m\u001b[0;32m    189\u001b[0m         ]\n\u001b[0;32m    190\u001b[0m \u001b[1;33m\u001b[0m\u001b[0m\n",
      "\u001b[1;32m~\\anaconda3\\envs\\capstone\\lib\\site-packages\\kss\\kss.py\u001b[0m in \u001b[0;36m<listcomp>\u001b[1;34m(.0)\u001b[0m\n\u001b[0;32m    186\u001b[0m                 \u001b[0mbackend\u001b[0m\u001b[1;33m=\u001b[0m\u001b[0mbackend\u001b[0m\u001b[1;33m,\u001b[0m\u001b[1;33m\u001b[0m\u001b[1;33m\u001b[0m\u001b[0m\n\u001b[0;32m    187\u001b[0m             )\n\u001b[1;32m--> 188\u001b[1;33m             \u001b[1;32mfor\u001b[0m \u001b[0mt\u001b[0m \u001b[1;32min\u001b[0m \u001b[0mmp_input_texts\u001b[0m\u001b[1;33m\u001b[0m\u001b[1;33m\u001b[0m\u001b[0m\n\u001b[0m\u001b[0;32m    189\u001b[0m         ]\n\u001b[0;32m    190\u001b[0m \u001b[1;33m\u001b[0m\u001b[0m\n",
      "\u001b[1;32m~\\anaconda3\\envs\\capstone\\lib\\site-packages\\kss\\kss.py\u001b[0m in \u001b[0;36m_split_sentences\u001b[1;34m(text, use_heuristic, use_quotes_brackets_processing, max_recover_step, max_recover_length, backend, recover_step)\u001b[0m\n\u001b[0;32m    290\u001b[0m \u001b[1;33m\u001b[0m\u001b[0m\n\u001b[0;32m    291\u001b[0m     \u001b[1;32mif\u001b[0m \u001b[0muse_morpheme\u001b[0m\u001b[1;33m:\u001b[0m\u001b[1;33m\u001b[0m\u001b[1;33m\u001b[0m\u001b[0m\n\u001b[1;32m--> 292\u001b[1;33m         \u001b[0meojeols\u001b[0m \u001b[1;33m=\u001b[0m \u001b[0m_morph\u001b[0m\u001b[1;33m.\u001b[0m\u001b[0mpos\u001b[0m\u001b[1;33m(\u001b[0m\u001b[0mtext\u001b[0m\u001b[1;33m=\u001b[0m\u001b[0mtext\u001b[0m\u001b[1;33m,\u001b[0m \u001b[0mbackend\u001b[0m\u001b[1;33m=\u001b[0m\u001b[0mbackend\u001b[0m\u001b[1;33m)\u001b[0m\u001b[1;33m\u001b[0m\u001b[1;33m\u001b[0m\u001b[0m\n\u001b[0m\u001b[0;32m    293\u001b[0m     \u001b[1;32melse\u001b[0m\u001b[1;33m:\u001b[0m\u001b[1;33m\u001b[0m\u001b[1;33m\u001b[0m\u001b[0m\n\u001b[0;32m    294\u001b[0m         \u001b[0meojeols\u001b[0m \u001b[1;33m=\u001b[0m \u001b[1;33m[\u001b[0m\u001b[0mEojeol\u001b[0m\u001b[1;33m(\u001b[0m\u001b[0mt\u001b[0m\u001b[1;33m,\u001b[0m \u001b[1;34m\"EF+ETN\"\u001b[0m\u001b[1;33m)\u001b[0m \u001b[1;32mfor\u001b[0m \u001b[0mt\u001b[0m \u001b[1;32min\u001b[0m \u001b[0mtext\u001b[0m\u001b[1;33m]\u001b[0m\u001b[1;33m\u001b[0m\u001b[1;33m\u001b[0m\u001b[0m\n",
      "\u001b[1;32m~\\anaconda3\\envs\\capstone\\lib\\site-packages\\kss\\morph.py\u001b[0m in \u001b[0;36mpos\u001b[1;34m(self, text, backend)\u001b[0m\n\u001b[0;32m     46\u001b[0m             _pos = self.pynori.do_analysis(\n\u001b[0;32m     47\u001b[0m                 \u001b[0mtext\u001b[0m\u001b[1;33m,\u001b[0m\u001b[1;33m\u001b[0m\u001b[1;33m\u001b[0m\u001b[0m\n\u001b[1;32m---> 48\u001b[1;33m                 \u001b[0mpreprocessed\u001b[0m\u001b[1;33m=\u001b[0m\u001b[1;32mTrue\u001b[0m\u001b[1;33m,\u001b[0m\u001b[1;33m\u001b[0m\u001b[1;33m\u001b[0m\u001b[0m\n\u001b[0m\u001b[0;32m     49\u001b[0m             )\n\u001b[0;32m     50\u001b[0m \u001b[1;33m\u001b[0m\u001b[0m\n",
      "\u001b[1;32m~\\anaconda3\\envs\\capstone\\lib\\site-packages\\kss\\pynori\\korean_analyzer.py\u001b[0m in \u001b[0;36mdo_analysis\u001b[1;34m(self, in_string, preprocessed)\u001b[0m\n\u001b[0;32m     61\u001b[0m         )\n\u001b[0;32m     62\u001b[0m \u001b[1;33m\u001b[0m\u001b[0m\n\u001b[1;32m---> 63\u001b[1;33m         \u001b[1;32mwhile\u001b[0m \u001b[0mself\u001b[0m\u001b[1;33m.\u001b[0m\u001b[0mkor_tokenizer\u001b[0m\u001b[1;33m.\u001b[0m\u001b[0mincrement_token\u001b[0m\u001b[1;33m(\u001b[0m\u001b[1;33m)\u001b[0m\u001b[1;33m:\u001b[0m\u001b[1;33m\u001b[0m\u001b[1;33m\u001b[0m\u001b[0m\n\u001b[0m\u001b[0;32m     64\u001b[0m             \u001b[1;32mpass\u001b[0m\u001b[1;33m\u001b[0m\u001b[1;33m\u001b[0m\u001b[0m\n\u001b[0;32m     65\u001b[0m         \u001b[0mtkn_attr_obj\u001b[0m \u001b[1;33m=\u001b[0m \u001b[0mself\u001b[0m\u001b[1;33m.\u001b[0m\u001b[0mkor_tokenizer\u001b[0m\u001b[1;33m.\u001b[0m\u001b[0mtkn_attr_obj\u001b[0m\u001b[1;33m\u001b[0m\u001b[1;33m\u001b[0m\u001b[0m\n",
      "\u001b[1;32m~\\anaconda3\\envs\\capstone\\lib\\site-packages\\kss\\pynori\\korean_tokenizer.py\u001b[0m in \u001b[0;36mincrement_token\u001b[1;34m(self)\u001b[0m\n\u001b[0;32m    354\u001b[0m                 \u001b[1;32mreturn\u001b[0m \u001b[1;32mFalse\u001b[0m\u001b[1;33m\u001b[0m\u001b[1;33m\u001b[0m\u001b[0m\n\u001b[0;32m    355\u001b[0m \u001b[1;33m\u001b[0m\u001b[0m\n\u001b[1;32m--> 356\u001b[1;33m             \u001b[0mself\u001b[0m\u001b[1;33m.\u001b[0m\u001b[0mparse\u001b[0m\u001b[1;33m(\u001b[0m\u001b[1;33m)\u001b[0m\u001b[1;33m\u001b[0m\u001b[1;33m\u001b[0m\u001b[0m\n\u001b[0m\u001b[0;32m    357\u001b[0m \u001b[1;33m\u001b[0m\u001b[0m\n\u001b[0;32m    358\u001b[0m         \u001b[0mtoken\u001b[0m \u001b[1;33m=\u001b[0m \u001b[0mself\u001b[0m\u001b[1;33m.\u001b[0m\u001b[0mpending\u001b[0m\u001b[1;33m.\u001b[0m\u001b[0mpop\u001b[0m\u001b[1;33m(\u001b[0m\u001b[1;33m)\u001b[0m\u001b[1;33m\u001b[0m\u001b[1;33m\u001b[0m\u001b[0m\n",
      "\u001b[1;32m~\\anaconda3\\envs\\capstone\\lib\\site-packages\\kss\\pynori\\korean_tokenizer.py\u001b[0m in \u001b[0;36mparse\u001b[1;34m(self)\u001b[0m\n\u001b[0;32m    465\u001b[0m             \u001b[0mfirstCharacter\u001b[0m \u001b[1;33m=\u001b[0m \u001b[0mself\u001b[0m\u001b[1;33m.\u001b[0m\u001b[0mbuffer\u001b[0m\u001b[1;33m.\u001b[0m\u001b[0mget\u001b[0m\u001b[1;33m(\u001b[0m\u001b[0mself\u001b[0m\u001b[1;33m.\u001b[0m\u001b[0mpos\u001b[0m\u001b[1;33m)\u001b[0m\u001b[1;33m\u001b[0m\u001b[1;33m\u001b[0m\u001b[0m\n\u001b[0;32m    466\u001b[0m             if anyMatches is False or self.character_definition.isInvoke(\n\u001b[1;32m--> 467\u001b[1;33m                 \u001b[0mfirstCharacter\u001b[0m\u001b[1;33m\u001b[0m\u001b[1;33m\u001b[0m\u001b[0m\n\u001b[0m\u001b[0;32m    468\u001b[0m             ):\n\u001b[0;32m    469\u001b[0m                 characterId = self.character_definition.getCharacterClass(\n",
      "\u001b[1;32m~\\anaconda3\\envs\\capstone\\lib\\site-packages\\kss\\pynori\\dict\\character_definition.py\u001b[0m in \u001b[0;36misInvoke\u001b[1;34m(ch)\u001b[0m\n\u001b[0;32m  44803\u001b[0m     \u001b[1;33m@\u001b[0m\u001b[0mstaticmethod\u001b[0m\u001b[1;33m\u001b[0m\u001b[1;33m\u001b[0m\u001b[0m\n\u001b[0;32m  44804\u001b[0m     \u001b[1;32mdef\u001b[0m \u001b[0misInvoke\u001b[0m\u001b[1;33m(\u001b[0m\u001b[0mch\u001b[0m\u001b[1;33m)\u001b[0m\u001b[1;33m:\u001b[0m\u001b[1;33m\u001b[0m\u001b[1;33m\u001b[0m\u001b[0m\n\u001b[1;32m> 44805\u001b[1;33m         \u001b[1;32mreturn\u001b[0m \u001b[0minvokeMap\u001b[0m\u001b[1;33m[\u001b[0m\u001b[0mcharacter_category_map\u001b[0m\u001b[1;33m(\u001b[0m\u001b[0mch\u001b[0m\u001b[1;33m)\u001b[0m\u001b[1;33m]\u001b[0m\u001b[1;33m\u001b[0m\u001b[1;33m\u001b[0m\u001b[0m\n\u001b[0m\u001b[0;32m  44806\u001b[0m \u001b[1;33m\u001b[0m\u001b[0m\n\u001b[0;32m  44807\u001b[0m     \u001b[1;33m@\u001b[0m\u001b[0mstaticmethod\u001b[0m\u001b[1;33m\u001b[0m\u001b[1;33m\u001b[0m\u001b[0m\n",
      "\u001b[1;32m~\\anaconda3\\envs\\capstone\\lib\\site-packages\\kss\\pynori\\dict\\character_definition.py\u001b[0m in \u001b[0;36mcharacter_category_map\u001b[1;34m(ch)\u001b[0m\n\u001b[0;32m  44750\u001b[0m \u001b[1;33m\u001b[0m\u001b[0m\n\u001b[0;32m  44751\u001b[0m \u001b[1;32mdef\u001b[0m \u001b[0mcharacter_category_map\u001b[0m\u001b[1;33m(\u001b[0m\u001b[0mch\u001b[0m\u001b[1;33m)\u001b[0m\u001b[1;33m:\u001b[0m\u001b[1;33m\u001b[0m\u001b[1;33m\u001b[0m\u001b[0m\n\u001b[1;32m> 44752\u001b[1;33m     \u001b[1;32mif\u001b[0m \u001b[0mlen\u001b[0m\u001b[1;33m(\u001b[0m\u001b[0mget_emoji\u001b[0m\u001b[1;33m(\u001b[0m\u001b[0mch\u001b[0m\u001b[1;33m)\u001b[0m\u001b[1;33m)\u001b[0m \u001b[1;33m!=\u001b[0m \u001b[1;36m0\u001b[0m\u001b[1;33m:\u001b[0m\u001b[1;33m\u001b[0m\u001b[1;33m\u001b[0m\u001b[0m\n\u001b[0m\u001b[0;32m  44753\u001b[0m         \u001b[1;32mreturn\u001b[0m \u001b[1;34m\"EMOJI\"\u001b[0m\u001b[1;33m\u001b[0m\u001b[1;33m\u001b[0m\u001b[0m\n\u001b[0;32m  44754\u001b[0m     \u001b[1;32mreturn\u001b[0m \u001b[0mcategories\u001b[0m\u001b[1;33m[\u001b[0m\u001b[0mord\u001b[0m\u001b[1;33m(\u001b[0m\u001b[0mch\u001b[0m\u001b[1;33m)\u001b[0m\u001b[1;33m]\u001b[0m\u001b[1;33m\u001b[0m\u001b[1;33m\u001b[0m\u001b[0m\n",
      "\u001b[1;32m~\\anaconda3\\envs\\capstone\\lib\\site-packages\\kss\\pynori\\dict\\character_definition.py\u001b[0m in \u001b[0;36mget_emoji\u001b[1;34m(text)\u001b[0m\n\u001b[0;32m     18\u001b[0m     \u001b[0mflags\u001b[0m \u001b[1;33m=\u001b[0m \u001b[0mregex\u001b[0m\u001b[1;33m.\u001b[0m\u001b[0mfindall\u001b[0m\u001b[1;33m(\u001b[0m\u001b[1;34m\"[\\U0001F1E6-\\U0001F1FF]\"\u001b[0m\u001b[1;33m,\u001b[0m \u001b[0mtext\u001b[0m\u001b[1;33m)\u001b[0m\u001b[1;33m\u001b[0m\u001b[1;33m\u001b[0m\u001b[0m\n\u001b[0;32m     19\u001b[0m \u001b[1;33m\u001b[0m\u001b[0m\n\u001b[1;32m---> 20\u001b[1;33m     \u001b[1;32mfor\u001b[0m \u001b[0mgrapheme\u001b[0m \u001b[1;32min\u001b[0m \u001b[0mregex\u001b[0m\u001b[1;33m.\u001b[0m\u001b[0mfindall\u001b[0m\u001b[1;33m(\u001b[0m\u001b[1;34mr\"\\X\"\u001b[0m\u001b[1;33m,\u001b[0m \u001b[0mtext\u001b[0m\u001b[1;33m)\u001b[0m\u001b[1;33m:\u001b[0m\u001b[1;33m\u001b[0m\u001b[1;33m\u001b[0m\u001b[0m\n\u001b[0m\u001b[0;32m     21\u001b[0m         \u001b[1;32mif\u001b[0m \u001b[0many\u001b[0m\u001b[1;33m(\u001b[0m\u001b[0mchar\u001b[0m \u001b[1;32min\u001b[0m \u001b[0m_emojis\u001b[0m \u001b[1;32mfor\u001b[0m \u001b[0mchar\u001b[0m \u001b[1;32min\u001b[0m \u001b[0mgrapheme\u001b[0m\u001b[1;33m)\u001b[0m\u001b[1;33m:\u001b[0m\u001b[1;33m\u001b[0m\u001b[1;33m\u001b[0m\u001b[0m\n\u001b[0;32m     22\u001b[0m             \u001b[0memoji_list\u001b[0m\u001b[1;33m.\u001b[0m\u001b[0mappend\u001b[0m\u001b[1;33m(\u001b[0m\u001b[0mgrapheme\u001b[0m\u001b[1;33m)\u001b[0m\u001b[1;33m\u001b[0m\u001b[1;33m\u001b[0m\u001b[0m\n",
      "\u001b[1;32m~\\anaconda3\\envs\\capstone\\lib\\site-packages\\regex\\regex.py\u001b[0m in \u001b[0;36mfindall\u001b[1;34m(pattern, string, flags, pos, endpos, overlapped, concurrent, timeout, ignore_unused, **kwargs)\u001b[0m\n\u001b[0;32m    336\u001b[0m     more than one group. Empty matches are included in the result.\"\"\"\n\u001b[0;32m    337\u001b[0m     \u001b[0mpat\u001b[0m \u001b[1;33m=\u001b[0m \u001b[0m_compile\u001b[0m\u001b[1;33m(\u001b[0m\u001b[0mpattern\u001b[0m\u001b[1;33m,\u001b[0m \u001b[0mflags\u001b[0m\u001b[1;33m,\u001b[0m \u001b[0mignore_unused\u001b[0m\u001b[1;33m,\u001b[0m \u001b[0mkwargs\u001b[0m\u001b[1;33m,\u001b[0m \u001b[1;32mTrue\u001b[0m\u001b[1;33m)\u001b[0m\u001b[1;33m\u001b[0m\u001b[1;33m\u001b[0m\u001b[0m\n\u001b[1;32m--> 338\u001b[1;33m     \u001b[1;32mreturn\u001b[0m \u001b[0mpat\u001b[0m\u001b[1;33m.\u001b[0m\u001b[0mfindall\u001b[0m\u001b[1;33m(\u001b[0m\u001b[0mstring\u001b[0m\u001b[1;33m,\u001b[0m \u001b[0mpos\u001b[0m\u001b[1;33m,\u001b[0m \u001b[0mendpos\u001b[0m\u001b[1;33m,\u001b[0m \u001b[0moverlapped\u001b[0m\u001b[1;33m,\u001b[0m \u001b[0mconcurrent\u001b[0m\u001b[1;33m,\u001b[0m \u001b[0mtimeout\u001b[0m\u001b[1;33m)\u001b[0m\u001b[1;33m\u001b[0m\u001b[1;33m\u001b[0m\u001b[0m\n\u001b[0m\u001b[0;32m    339\u001b[0m \u001b[1;33m\u001b[0m\u001b[0m\n\u001b[0;32m    340\u001b[0m def finditer(pattern, string, flags=0, pos=None, endpos=None, overlapped=False,\n",
      "\u001b[1;31mKeyboardInterrupt\u001b[0m: "
     ]
    }
   ],
   "source": [
    "%time\n",
    "prec_tokened_sentences = pr_prec_df['판례내용'].apply(K_preprocessing.tokenize_sent)"
   ]
  },
  {
   "cell_type": "markdown",
   "id": "f8505ce9",
   "metadata": {},
   "source": [
    "### 3) 한글, 숫자외의 문자 제거"
   ]
  },
  {
   "cell_type": "code",
   "execution_count": 10,
   "id": "0d3e70bb",
   "metadata": {
    "scrolled": true
   },
   "outputs": [
    {
     "name": "stdout",
     "output_type": "stream",
     "text": [
      "Wall time: 339 ms\n"
     ]
    },
    {
     "data": {
      "text/plain": [
       "['【피 고 인】 피고인【항 소 인】 쌍방【검 사】 이지은 외 1인【변 호 인】 변호사 손영서【원심판결】 수원지법 안양지원 2021. 10. 8. 선고 2021고합118 판결【주 문】 원심판결(이유무죄 부분 포함)을 파기한다.',\n",
       " '피고인을 징역 2년에 처한다.',\n",
       " '다만 이 판결 확정일로부터 3년간 위 형의 집행을 유예한다.',\n",
       " '피고인에게 40시간의 성폭력 치료강의 수강을 명한다.',\n",
       " '피고인에 대하여 아동·청소년 관련기관 등과 장애인복지시설에 5년간 취업제한(운영 및 사실상 노무제공 금지 포함)을 명한다.【이 유】 1. 항소이유의 요지 가.',\n",
       " '피고인(양형부당) 원심이 피고인에게 선고한 형(징역 2년 6월 등)은 너무 무거워서 부당하다.',\n",
       " '나. 검사 1) 사실오인(형법 제305조 제1항의 미성년자의제강간의 점) 피해자가 당시 착용하고 있던 의상은 전형적으로 초등학생의 의상이었고, 피해자의 외모 역시 평범한 초등학생으로 보이며, 피해자는 피고인을 만나기 전 피고인에게 \"나 아빠랑 가도 돼?\"라고 물어보았는바, 상식적으로 피해자가 매우 어리다고 추정할 수 있는 등 피고인이 당시 피해자가 13세 미만이라는 사실을 인식하고 있었다고 봄이 상당하다.',\n",
       " '그럼에도 이와 달리 피고인이 이 사건 당시 피해자가 13세 미만인 사실을 미필적으로라도 인식하고 있었음이 증명되지 않는다는 이유로 형법 제305조 제1항의 미성년자의제강간의 점에 대하여 이유무죄를 선고한 원심판결에는 사실오인의 위법이 있다. 2) 법리오해(형법 제305조 제2항의 미성년자의제강간의 점) 설령 피고인이 피해자의 나이를 13세 미만이라고 인식하지 못하였다고 하더라도, 피고인은 실제 13세 미만인 피해자를 13세 이상 16세 미만 정도로 인식하고 간음하였는바, 이는 경한 고의로 중한 결과가 발생한 경우에 해당하고 형법 제305조 제2항의 신설 취지, 일반인들의 법감정 등을 고려하면 형법 제305조 제2항의 미성년자의제강간죄의 기수범으로 처벌하여야 함에도 불능미수 유죄로만 인정한 원심판결에는 법리오해의 위법이 있다. 3) 양형부당 원심이 피고인에게 선고한 형은 너무 가벼워서 부당하다. 2. 검사의 사실오인 주장에 대한 판단(형법 제305조 제1항의 미성년자의제강간의 점) 가.',\n",
       " '관련 법리 형사재판에서 공소가 제기된 범죄의 구성요건을 이루는 사실은 그것이 주관적 요건이든 객관적 요건이든 그 입증책임이 검사에게 있으므로, 형법 제305조 제1항의 미성년자의제강간죄의 성립이 인정되려면, 피고인이 피해자가 13세 미만임을 알면서 그를 간음하였다는 사실이 검사에 의하여 증명되어야 한다.',\n",
       " '물론 피고인이 일정한 사정의 인식 여부와 같은 내심의 사실에 관하여 이를 부인하는 경우 이러한 주관적 요소로 되는 사실은 사물의 성질상 그 내심과 상당한 관련이 있는 간접사실 또는 정황사실을 증명하는 방법에 의하여 이를 입증할 수밖에 없고, 이때 무엇이 상당한 관련성이 있는 간접사실에 해당할 것인가는 정상적인 경험칙에 바탕을 두고 사실의 연결상태를 합리적으로 분석·판단하는 방법에 의하여야 하나, 피해자가 13세 미만이라는 객관적 사실로부터 피고인이 그 사실을 알고 있었다는 점이 추단된다고 볼 수는 없다(대법원 2012. 8. 30. 선고 2012도7377 판결 등 참조). 나. 판단 앞서 본 법리에 기초하여 원심이 적법하게 채택·조사한 증거들에 의하여 인정되는 아래의 사실 내지 사정들을 종합하여 보면, 검사가 제출한 증거들만으로는 피고인이 이 사건 당시 피해자가 13세 미만인 사실을 미필적으로라도 인식하고 있었음이 합리적인 의심의 여지 없이 증명되었다고 볼 수 없고, 달리 이를 인정할 만한 증거가 없다.',\n",
       " '따라서 이 부분 공소사실을 이유무죄로 판단한 원심의 결론은 정당한 것으로 수긍할 수 있고, 검사의 사실오인 주장은 받아들일 수 없다. 1) 피해자는 일관되게 ‘피고인에게 자신의 나이를 18세로 소개하였다.’는 취지로 진술하였고(증거기록 제55쪽), 피고인 또한 피해자로부터 그렇게 들었다는 취지로 진술하였다(증거기록 제368쪽). 2) 피고인과 피해자는 카카오톡 오픈채팅방을 통해 알게 되어 온라인상으로 연락을 주고받다가 이 사건 공소사실 기재 일시에 처음으로 만났다.',\n",
       " '3) 피해자의 카카오톡 프로필에 게시된 사진을 보면, 피해자가 나이가 어려 보이기는 하나 피해자의 얼굴에 토끼 귀, 얼굴 모양 등의 필터가 적용되면서 실제 피해자 얼굴이 일부 가려지거나 변형되기도 하는 등 외관상 초등학생이라는 점이 분명하게 드러난다고 단정하기 어렵다(증거기록 제126, 127쪽). 4) 피고인은, 피해자를 만났을 당시 피해자가 마스크를 쓰고 있었고, 이 사건 룸카페에 들어가서 마스크를 벗었다고 하더라도 실내조명이 어두워 언뜻 피해자의 얼굴을 제대로 보지 못했다는 취지로 주장하는데, 당시 상황에 비추어 피고인의 위와 같은 변소가 수긍이 가는 면도 있어 피고인으로서는 피해자의 나이를 쉽게 알아채지 못했을 가능성도 배제하기 어렵다. 5) 피고인은 피해자에게 자신의 나이를 낮추어 거짓으로 알려주었다.',\n",
       " '그렇다 하더라도 피해자의 외모, 신장 등을 관찰하는 것만으로 피해자 역시 본인 나이가 13세 미만임에도 피고인에게 거짓으로 18세라고 소개하였음을 알아차릴 수 있는 특별한 사정도 발견되지 않는다.',\n",
       " '3. 검사의 법리오해 주장에 대한 판단(형법 제305조 제2항의 미성년자의제강간의 점) 가.',\n",
       " '원심의 판단 원심은, 형법 제305조 제2항의 미성년자의제강간의 점에 대하여 피고인이 피해자를 13세 이상 16세 미만의 자로 인식하였으나 실제로는 피해자가 만 11세에 불과하여 대상의 착오로 범죄의 결과 발생이 불가능하지만, 객관적인 일반인의 관점에서 보았을 때 범행의 결과가 발생할 위험성이 있으므로 형법 제27조 본문에 의하여 형법 제305조 제2항 미성년자의제강간의 불능미수를 유죄로 인정하였다.',\n",
       " '나. 당심의 판단 1) 문제의 소재 형법 제305조 제2항은 간음의 상대방을 ‘13세 이상 16세 미만’으로 정하고 있는바, 이 사건의 경우처럼 13세 미만의 피해자를 13세 이상 16세 미만으로 인식하고 간음한 경우형법 제305조 제2항 미성년자의제강간죄의 기수가 성립하는지, 아니면 불능미수가 성립하는지 문제 된다.',\n",
       " '2) 관련 법리 죄형법정주의는 국가형벌권의 자의적인 행사로부터 개인의 자유와 권리를 보호하기 위하여 범죄와 형벌을 법률로 정할 것을 요구한다.',\n",
       " '그러한 취지에 비추어 보면 형벌법규의 해석은 엄격하여야 하고, 명문의 형벌법규의 의미를 피고인에게 불리한 방향으로 지나치게 확장해석하거나 유추해석하는 것은 죄형법정주의의 원칙에 어긋나는 것으로서 허용되지 아니한다(대법원 2013. 11. 28. 선고 2012도4230 판결 등 참조). 그러나 형벌법규의 해석에 있어서도 가능한 문언의 의미 내에서 당해 규정의 입법 취지와 목적 등을 고려한 법률체계적 연관성에 따라 그 문언의 논리적 의미를 분명히 밝히는 체계적·논리적 해석방법은 그 규정의 본질적 내용에 가장 접근한 해석을 위한 것으로서 죄형법정주의의 원칙에 부합하고(대법원 2007. 6. 14. 선고 2007도2162 판결 참조), 법률문언의 통상적인 의미를 벗어나지 않는 한 그 법률의 입법 취지와 목적, 입법 연혁 등을 고려한 목적론적 해석도 배제되는 것은 아니다(대법원 2006. 5. 12. 선고 2005도6525 판결 등 참조). 3) 구체적 판단 위와 같은 형벌법규 해석의 원칙에 기초하여 형법 제305조 제1항 및 제2항의 문언, 형법 제305조의 개정 취지와 목적, 개정 연혁, 형법 제305조 제1항과 제2항의 관계 등을 종합하여 보면, 미성년자의제강간죄의 행위자가 19세 이상의 자로서 피해자를 13세 이상 16세 미만의 미성년자로 인식하였으나 실제로는 그 피해자의 나이가 13세 미만일 경우에는 형법 제305조 제2항의 미성년자의제강간죄의 기수로 인정함이 타당하다.',\n",
       " '그 판단 근거는 다음과 같다. 가) 형법 제305조의 개정 취지구 형법(2020. 5. 19. 법률 제17265호로 개정되기 전의 것, 이하 ‘구 형법’이라 한다) 제305조에서는 \"13세 미만의 사람에 대하여 간음 또는 추행을 한 자는 제297조, 제297조의2, 제298조, 제301조 또는 제301조의2의 예에 의한다.\"라고 규정하여 미성년자의제강간죄의 객체를 ‘13세 미만의 사람’으로 정하고 있었다.',\n",
       " '그러나 미성년자 성착취물 제작·유포로 사회적으로 큰 물의를 일으킨 소위 ‘N번방 사건’, ‘박사방 사건’ 등 일련의 사건들에 의하여 미성년자를 상대로 한 성범죄의 처벌을 강화하여야 한다는 여론이 형성되었고, 이에 2020. 5. 19. \"텔레그램을 이용한 성착취 사건 등 사이버 성범죄로 인한 피해가 날로 증가하고 있는바, 미성년자 의제강간 연령기준을 높이고 강간 등의 예비·음모에 대한 처벌규정을 신설하는 등 관련 규정을 정비함으로써 성범죄로 인한 피해 발생을 미연에 방지하여 국민의 성적 자기결정권 등 기본권을 보호하고 범죄로부터 안전한 사회를 조성\"하기 위하여 형법의 일부 조항을 개정하면서 \"13세 이상 16세 미만의 사람에 대하여 간음 또는 추행을 한 19세 이상의 자는 제297조, 제297조의2, 제298조, 제301조 또는 제301조의2의 예에 의한다.\"라는 내용의 형법 제305조 제2항을 신설하였다.',\n",
       " '법제처에서 제공한 개정이유에 의하면 그 개정 목적을 \"미성년자 의제강간 연령기준을 13세에서 16세로 상향\"하되 \"피해 미성년자가 13세 이상 16세 미만인 경우 19세 이상의 자에 대해서만 처벌하도록\" 하는 것임을 분명히 밝히고 있다.',\n",
       " '한편 위 개정된 형법 제305조에서 미성년자의제강간죄의 연령 기준을 기존 13세에서 16세로 상향하면서도, 피해 미성년자가 13세 이상 16세 미만인 경우에는 가해자가 19세 이상인 경우에만 처벌하도록 하였는데, 그 입법 취지는 미국의 일부 주 등에서 시행하고 있는 이른바 ‘Romeo and Juliet Law’(교제하는 청소년 간의 합의에 의한 성적 접촉까지 처벌되는 것을 막기 위하여 피해자가 기준 연령 이하인 경우에도 가해자와 피해자의 연령 차이가 3~4세 정도로 크지 않은 경우에는 처벌하지 않거나 경범죄로 처벌하는 법조항)를 참고하여 19세 미만의 사람이 13세 이상 16세 미만의 사람과 합의에 의하여 성관계 등 성적 행위를 한 경우에는 청소년 간의 자연스러운 교제에 따라 온전한 성적 자기결정권을 행사한 것으로 보아 처벌대상에서 제외하기 위한 것으로 이해된다.',\n",
       " '나) 형법 제305조 제1항, 제2항의 관계형법 제305조 제1항과 제2항은 그 법정형은 물론 범행의 행위태양에 있어서도 완전히 동일하게 규정되어 있는바, 여기에 앞서 살펴본 형법 제305조의 개정 연혁과 취지를 더하여 보면, 형법 제305조 제2항은 제1항과 구별되는 별개의 새로운 죄나 구성요건을 신설한 것이 아니라 미성년자의제강간죄의 처벌대상이 되는 피해자의 연령을 기존 13세 미만에서 16세 미만으로 상향하였을 뿐이다.',\n",
       " '즉, 범행의 객체를 ‘13세 미만’인 경우와 ‘13세 이상 16세 미만인 경우’를 달리 처벌하기 위하여 형법 제305조 제1항과 제2항을 구분한 것이 아니라 형법 제305조에서 ‘미성년자의제강간죄’라는 하나의 범죄를 규정하고, 다만 제2항에서 피해자의 나이가 13세 이상 16세 미만인 경우 행위자의 연령이 19세 미만인 자에 한하여 벌하지 아니한다는, 즉 처벌받는 ‘행위자의 요건’에 제한을 가한 것으로 봄이 타당하다.',\n",
       " '이와 같이 해석하는 것이 미성년자의제강간죄의 대상 연령을 16세 미만으로 상향하여 미성년자를 성범죄에서 보호하고자 하는 개정 형법의 취지에 부합하고 보다 자연스럽다.',\n",
       " '다) 형법 제305조 제1항과 제2항을 피해자의 연령에 따른 별도의 구성요건으로 볼 경우 발생하는 문제형법 제305조가 개정된 배경에는 앞서 살핀 바와 같이 미성년자를 대상으로 한 성범죄에 대한 엄벌의 필요성에 대하여 사회적 합의가 이루어졌기 때문이다.',\n",
       " '그런데 만일 형법 제305조 제1항과 제2항을 피해자의 연령에 따른 별도의 구성요건을 규정한 것으로 해석하면, 피고인이 인식한 피해자의 나이와 피해자의 실제 나이가 불일치할 때 경우에 따라서는 대상의 착오로 보아 ‘불능미수’로만 처벌하게 된다.',\n",
       " '그런데 불능미수란 행위자에게 범죄의사가 있고 실행의 착수라고 볼 수 있는 행위가 있더라도 실행의 수단이나 대상의 착오로 처음부터 결과 발생 또는 법익침해의 가능성이 없지만 다만 그 행위의 위험성 때문에 미수범으로 처벌하는 경우를 말하고, 여기에서 ‘결과의 발생이 불가능’하다는 것은 범죄행위의 성질상 어떠한 경우에도 구성요건의 실현이 불가능하다는 것을 의미한다(대법원 2019. 5. 16. 선고 2019도97 판결 등 참조). 예컨대, ① ‘13세 이상 16세 미만’의 피해자를 13세 미만으로 인식하고 간음한 경우를 상정해 본다(이 사건의 경우와는 행위자의 인식과 피해자의 실제 나이가 반전된 사례에 해당한다). 형법 제305조 제2항의 고의를 ‘피해자가 13세 이상 16세 미만’이라는 사실에 대한 인식이라고 본다면, 피해자를 13세 미만으로 인식한 행위자에게 형법 제305조 제2항의 미성년자의제강간의 고의를 인정할 수 없어 형법 제305조 제2항의 미성년자의제강간죄가 성립하지 않는다고 보게 된다.',\n",
       " '또한 대상의 착오로 인하여 형법 제305조 제1항의 미성년자의제강간죄는 처음부터 결과 발생이 불가능한 경우에 해당하고 불능미수만이 성립될 수 있게 된다. ‘13세 이상 16세 미만’의 피해자를 13세 이상 16세 미만으로 인식하고 간음한 경우에는 형법 제305조 제2항의 미성년자의제강간의 기수가 성립하는 반면, 같은 피해자를 13세 미만으로 인식하고 간음한 경우에는 형법 제305조 제1항의 미성년자의제강간의 불능미수가 성립한다고 보면, 비난가능성이 더 높은 사람을 미수범으로 처벌하는 결과가 되어 부당하다.',\n",
       " '다음으로, ② 13세 미만의 피해자를 ‘13세 이상 16세 미만’으로 인식하고 간음한 경우를 살펴본다(이 사건과 동일한 경우에 해당한다). 마찬가지로 형법 제305조 제1항과 제2항을 별도의 구성요건을 규정한 것으로 해석하면, 행위자가 피해자의 나이를 ‘13세 이상 16세 미만’으로 인식하였다면 형법 제305조 제1항이 정한 ‘13세 미만’이라는 점에 고의를 인정할 수 없어 형법 제305조 제1항의 미성년자의제강간죄는 성립하지 않게 된다.',\n",
       " '또한 형법 제305조 제2항은 범행의 객체를 ‘13세 이상 16세 미만’의 사람으로 규정하고 있어 대상의 착오로 인하여 형법 제305조 제2항에 따른 미성년자의제강간의 불능미수가 성립한다고 보게 된다.',\n",
       " '이 또한 피해자의 실제 나이가 피고인이 인식한 나이보다 더 어리다는 우연적 사정만으로 이미 간음행위의 기수에 나아간 피고인을 미수범으로 처벌하는 결과가 되어 부당할 뿐 아니라 앞서 본 형법 개정의 취지에도 부합하지 않는다. 라) 형법 제305조 제2항의 미성년자의제강간에서 고의의 핵심은 상대방이 ‘16세 미만’임을 인식하는 것에 있다고 해석함이 타당함형법 제305조 제1항과 제2항은 그 법정형과 행위태양이 완전히 동일하고, 피해자가 13세 미만인 경우에는 행위자의 연령에 상관없이 처벌하고, 피해자가 13세 이상 16세 미만인 경우에는 행위자가 19세 이상인 경우에만 처벌하기 위하여 형법 제305조의 구성요건을 피해자의 나이가 13세 미만과 13세 이상 16세 미만인 경우로 항을 분리하여 규정하는 입법형식을 취한 것으로 보인다.',\n",
       " '따라서 형법 제305조 제2항의 미성년자의제강간에서 고의의 핵심은 피해자가 16세 미만이라는 점을 인식하는 것에 있으므로, 행위자가 피해자의 나이를 13세 미만으로 인식하였다면 16세 미만의 점도 인식하였다고 해석함이 타당하다.',\n",
       " '이와 같이 해석하는 것이 미성년자의제강간죄의 대상 연령을 16세 미만으로 상향함으로써 16세 미만 미성년자와의 간음행위에 대한 처벌을 강화하고자 하는 개정 형법의 취지에 부합한다.',\n",
       " '이와 다른 입장에서 형법 제305조 제1항과 제2항이 간음의 객체를 명확히 구분하고 있으므로 위와 같이 해석하는 것은 문언해석의 한계를 넘어서는 것이고, 위 다)항과 같은 문제는 궁극적으로 형법 제305조를 개정함으로써 해결할 문제라고 보는 견해가 있을 수 있다.',\n",
       " '그러나 ① 형법 제305조 제1항과 제2항의 미성년자의제강간죄는 대상 연령만 달리 규정하고 있을 뿐 동일한 법정형으로 형사적 책임에 본질적 차이가 없는 점, ② 입법자가 미성년자의제강간죄의 대상 연령을 상향하면서 ‘19세 미만의 사람이 13세 이상 16세 미만의 미성년자를 간음한 경우’를 처벌대상에서 제외됨을 명시하기 위하여 범행주체를 제한하지 않았던 기존의 형법 제305조를 제305조 제1항으로 하고, 범행의 주체가 19세 이상의 사람으로 제한되는 영역은 제305조 제2항을 신설하는 방식을 취한 것은 입법형식상 적절하지는 않아도 입법의 불비라고까지 볼 것은 아닌 점, ③ 피해자가 16세 미만 미성년자에 해당하고, 행위자가 피해자의 나이를 16세 미만으로 인식하면 형법 제305조의 미성년자의제강간죄가 성립하고, 그 범위 안에서 피고인이 피해자의 실제 나이를 잘못 인식했다 하더라도 그와 같은 사정이 범죄성립 여부에 영향을 미치지 않는다고 보는 것이 사회통념이나 일반상식에 부합하는 점 등에 비추어, 이 사건의 경우처럼 13세 미만의 피해자를 13세 이상 16세 미만으로 인식하고 간음한 경우 형법 제305조 제2항의 미성년자의제강간죄의 기수가 성립한다고 인정함이 타당하고, 이는 죄형법정주의의 내용인 확장해석금지 원칙에 반하지 않는다고 판단한다. 4) 이 사건의 해결 이 사건에 관하여 보건대, 피고인은 이 사건 당시 피해자의 나이를 13세 이상 16세 미만의 미성년자로 인식하였으나 실제 피해자의 나이가 11세인 경우인바, 앞서 본 바와 같이 이와 같은 경우에는 형법 제305조 제2항 미성년자의제강간의 기수를 인정하여야 한다.',\n",
       " '따라서 피고인에 대하여 형법 제305조 제2항의 기수가 아닌 불능미수의 유죄로 판단한 원심판결에는 법리오해의 위법이 있고, 이를 지적하는 검사의 주장은 이유 있다. 4. 결론 그렇다면 원심판결의 이유무죄 부분 중 검사의 항소는 일부가 이유 있으므로 검사의 양형부당 주장에 관한 판단을 생략한 채 형사소송법 제364조 제6항에 따라 원심판결(이유무죄 부분 포함)을 파기하고, 변론을 거쳐 다시 다음과 같이 판결한다.【다시 쓰는 판결 이유】【범죄사실】 피고인은 2020. 9.경 ‘카카오톡’ 오픈채팅방을 통해 피해자 공소외인(가명, 여, 11세)과 알게 된 후 피해자와 연락을 지속해 왔다.',\n",
       " '피고인은 2020. 10. 3. 15:06경부터 같은 날 16:38경까지 사이에 서울 마포구 (주소 생략)에 있는 룸카페 (호실 생략)에서 당시 13세 이상 16세 미만으로 알고 있던 피해자를 1회 간음하였다.',\n",
       " '이로써 피고인은 19세 이상의 사람으로서 16세 미만의 피해자를 간음하였다.【증거의 요지】 이 법원이 인정하는 증거의 요지는 ‘당심 제1회 공판조서 중 피고인의 일부 진술기재’를 추가하는 것 외에는 원심판결의 해당란 기재와 같으므로 형사소송법 제369조에 의하여 이를 그대로 인용한다.【법령의 적용】 1. 범죄사실에 대한 해당법조형법 제305조 제2항, 제297조 1. 작량감경형법 제53조, 제55조 제1항 제3호(아래 양형의 이유 중 유리한 정상 참작) 1. 집행유예형법 제62조 제1항(아래 양형의 이유 중 유리한 정상 거듭 참작) 1. 수강명령아동·청소년의 성보호에 관한 법률 제21조 제2항 본문 1. 공개명령 및 고지명령의 면제아동·청소년의 성보호에 관한 법률 제49조 제1항 단서, 제50조 제1항 단서(피고인에게 형사처벌 전력이 없는 점, 피고인에 대한 신상정보 등록, 성폭력 치료강의 수강명령만으로도 재범을 방지하는 효과를 어느 정도 거둘 수 있을 것으로 기대되는 점, 그 밖에 피고인의 연령, 이 사건 범행의 종류 및 동기, 수단과 결과, 범행 후의 정황, 공개·고지명령으로 인하여 피고인이 입는 불이익의 정도와 예상되는 부작용, 그로 인해 달성할 수 있는 등록대상 성범죄의 예방 및 피해자 보호 효과 등을 종합적으로 고려하여 볼 때 신상정보를 공개·고지하여서는 아니 될 특별한 사정이 있다고 판단된다) 1. 취업제한명령구 아동·청소년의 성보호에 관한 법률(2020. 12. 8. 법률 제17641호로 개정되기 전의 것) 제56조 제1항 본문, 구 장애인복지법(2020. 12. 29. 법률 제17791호로 개정되기 전의 것) 제59조의3 제1항 본문【양형의 이유】 1. 법률상 처단형의 범위: 징역 1년 6월~15년 2. 양형기준에 따른 권고형의 범위: 양형기준이 설정되어 있지 아니함',\n",
       " '3. 선고형의 결정 이 사건 범행은 피고인이 건전한 성 가치관을 확립하고 사회적으로 보호받아야 할 11세의 미성년자를 간음한 사건으로, 피고인은 피해자가 16세 미만의 미성년자임을 인식하였음에도 피해자에게 자신의 나이를 18세라고 속이면서까지 성관계를 하였는바 그 죄책이 무겁다.',\n",
       " '다만 피고인이 이 사건 이전에는 형사처벌 전력이 없는 점, 당심에서 피고인은 피해자 측에 소정의 피해 배상금을 지급하였고, 피해자의 부모는 피고인의 처벌을 원하지 않는다는 의사를 밝힌 점 등은 피고인에게 유리한 정상으로 참작한다.',\n",
       " '그 밖에 피고인의 나이, 성행, 환경, 피해자에 대한 관계, 범행의 동기·수단·결과, 범행 후의 정황 등 이 사건 변론과 기록에 나타난 양형의 조건이 되는 모든 사정을 종합하여 주문과 같이 형을 정한다.【신상정보의 등록 및 제출】 판시 범죄사실에 대하여 유죄판결이 확정되는 경우 피고인은 성폭력범죄의 처벌 등에 관한 특례법 제42조 제1항에 의하여 신상정보 등록대상자가 되므로, 같은 법 제43조에 따라 관할기관에 신상정보를 제출할 의무가 있다. 【무죄 부분】 이 부분 공소사실의 요지는 원심판결의 무죄 부분 공소사실의 요지의 기재와 같고, 위 제2의 나.항에서 본 바와 같이 범죄의 증명이 없는 경우에 해당하므로 형사소송법 제325조 후단에 따라 피고인에게 무죄를 선고하여야 할 것이나, 이 부분 공소사실과 동일성이 인정되는 판시 범죄사실을 유죄로 인정하는 이상 주문에서 따로 무죄를 선고하지 아니한다.',\n",
       " '판사 신숙희(재판장) 박동복 김도현']"
      ]
     },
     "execution_count": 10,
     "metadata": {},
     "output_type": "execute_result"
    }
   ],
   "source": [
    "%%time\n",
    "K_preprocessing.tokenize_sent(pr_prec_df['판례내용'][0])"
   ]
  }
 ],
 "metadata": {
  "kernelspec": {
   "display_name": "Python 3 (ipykernel)",
   "language": "python",
   "name": "python3"
  },
  "language_info": {
   "codemirror_mode": {
    "name": "ipython",
    "version": 3
   },
   "file_extension": ".py",
   "mimetype": "text/x-python",
   "name": "python",
   "nbconvert_exporter": "python",
   "pygments_lexer": "ipython3",
   "version": "3.7.13"
  }
 },
 "nbformat": 4,
 "nbformat_minor": 5
}
