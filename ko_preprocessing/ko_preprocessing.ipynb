{
 "cells": [
  {
   "cell_type": "markdown",
   "id": "1b519972",
   "metadata": {},
   "source": [
    "# 한국어 전처리\n",
    "- [패키지 설치 참고](https://github.com/wjsrlahrlco1998/TIL/blob/master/Unstructured_text_analysis/K_text_preprocessing_2.md)"
   ]
  },
  {
   "cell_type": "markdown",
   "id": "feeeae94",
   "metadata": {},
   "source": [
    "## 1. 패키지 로드"
   ]
  },
  {
   "cell_type": "code",
   "execution_count": 21,
   "id": "53fd7350",
   "metadata": {},
   "outputs": [],
   "source": [
    "import re\n",
    "\n",
    "from kss import split_sentences\n",
    "from hanspell import spell_checker"
   ]
  },
  {
   "cell_type": "markdown",
   "id": "91c27ad4",
   "metadata": {},
   "source": [
    "## 2. 클래스 정의"
   ]
  },
  {
   "cell_type": "code",
   "execution_count": 22,
   "id": "4f5fbcdb",
   "metadata": {},
   "outputs": [],
   "source": [
    "class K_preprocessing:\n",
    "    @classmethod\n",
    "    def remove_special_char(self, sent):\n",
    "        '''\n",
    "문장에서 한글과 숫자를 제외하고 모두 제거하는 함수.\n",
    "\n",
    "Parameters\n",
    "----------\n",
    "sent : String\n",
    "\n",
    "Returns\n",
    "-------\n",
    "한글과 숫자만 존재하는 문장 : String\n",
    "'''\n",
    "        return re.sub('[^가-힣0-9 ]', '', sent)\n",
    "    \n",
    "    @classmethod\n",
    "    def tokenize_sent(self, document):\n",
    "        '''\n",
    "문서의 문장 토큰화하는 함수.\n",
    "\n",
    "Parameters\n",
    "----------\n",
    "document : String\n",
    "\n",
    "Returns\n",
    "-------\n",
    "문장 토큰화된 리스트 : List\n",
    "'''\n",
    "        return split_sentences(document)\n",
    "    \n",
    "    @classmethod\n",
    "    def correct_spell(self, sent):\n",
    "        '''\n",
    "한글 문장의 맞춤법을 교정해주는 함수.\n",
    "\n",
    "Parameters\n",
    "----------\n",
    "sent : String\n",
    "\n",
    "Returns\n",
    "-------\n",
    "맞춤법이 교정된 문장 : String\n",
    "'''\n",
    "        ck_sent = spell_checker.check(sent)\n",
    "        \n",
    "        return ck_sent.checked"
   ]
  },
  {
   "cell_type": "markdown",
   "id": "ef18ed73",
   "metadata": {},
   "source": [
    "## 3. 테스트"
   ]
  },
  {
   "cell_type": "markdown",
   "id": "310d628c",
   "metadata": {},
   "source": [
    "### 1) remove_special_char 테스트\n",
    "- 입력문장에서 한국어와 숫자를 제외하고 모두 제거하는 함수"
   ]
  },
  {
   "cell_type": "code",
   "execution_count": 17,
   "id": "a58fd2f6",
   "metadata": {},
   "outputs": [
    {
     "data": {
      "text/plain": [
       "'정규표현식에 는 문자 와 매칭되지만 는 와 매칭되지 않습니다 메타문자인 소괄호인 를 매칭하고자 하면 백슬래쉬인 를 앞에 붙여  라 작성해야 문자 와 매칭이 가능합니다 이에 관한 설명은 62 에서 확인할 수 있습니다'"
      ]
     },
     "execution_count": 17,
     "metadata": {},
     "output_type": "execute_result"
    }
   ],
   "source": [
    "K_preprocessing.remove_special_char('정규표현식에 a는 문자 a와 매칭되지만 (는 (와 매칭되지 않습니다. 메타문자인 소괄호인 (를 매칭하고자 하면 백슬래쉬인 \\를 앞에 붙여 \\( 라 작성해야 문자 (와 매칭이 가능합니다. 이에 관한 설명은 https://brownbears.tistory.com/62 에서 확인할 수 있습니다.')"
   ]
  },
  {
   "cell_type": "markdown",
   "id": "b54f4d97",
   "metadata": {},
   "source": [
    "### 2) tokenize_sent 테스트\n",
    "- 입력문서를 문장단위로 토큰화하는 함수"
   ]
  },
  {
   "cell_type": "code",
   "execution_count": 16,
   "id": "f7fd53b1",
   "metadata": {
    "scrolled": true
   },
   "outputs": [
    {
     "data": {
      "text/plain": [
       "['정규표현식에 a는 문자 a와 매칭되지만 (는 (와 매칭되지 않습니다.',\n",
       " '메타문자인 소괄호인 (를 매칭하고자 하면 백슬래쉬인 \\\\를 앞에 붙여 \\\\( 라 작성해야 문자 (와 매칭이 가능합니다.',\n",
       " '이에 관한 설명은 https://brownbears.tistory.com/62 에서 확인할 수 있습니다.']"
      ]
     },
     "execution_count": 16,
     "metadata": {},
     "output_type": "execute_result"
    }
   ],
   "source": [
    "K_preprocessing.tokenize_sent('정규표현식에 a는 문자 a와 매칭되지만 (는 (와 매칭되지 않습니다. 메타문자인 소괄호인 (를 매칭하고자 하면 백슬래쉬인 \\를 앞에 붙여 \\( 라 작성해야 문자 (와 매칭이 가능합니다. 이에 관한 설명은 https://brownbears.tistory.com/62 에서 확인할 수 있습니다.')"
   ]
  },
  {
   "cell_type": "markdown",
   "id": "13a2dd67",
   "metadata": {},
   "source": [
    "### 3) correct_spell 테스트\n",
    "- 입력문장(한글)의 맞춤법을 교정해주는 함수\n",
    "- 100% 정확한 교정은 아니지만 어느정도의 교정을 해준다."
   ]
  },
  {
   "cell_type": "code",
   "execution_count": 25,
   "id": "40d3ff82",
   "metadata": {},
   "outputs": [
    {
     "data": {
      "text/plain": [
       "'나는 왜 안돼? 나도 할 수 있으면 되지'"
      ]
     },
     "execution_count": 25,
     "metadata": {},
     "output_type": "execute_result"
    }
   ],
   "source": [
    "K_preprocessing.correct_spell('나는 외 않되? 나도 할수있으면돼지')"
   ]
  }
 ],
 "metadata": {
  "kernelspec": {
   "display_name": "Python 3 (ipykernel)",
   "language": "python",
   "name": "python3"
  },
  "language_info": {
   "codemirror_mode": {
    "name": "ipython",
    "version": 3
   },
   "file_extension": ".py",
   "mimetype": "text/x-python",
   "name": "python",
   "nbconvert_exporter": "python",
   "pygments_lexer": "ipython3",
   "version": "3.7.13"
  }
 },
 "nbformat": 4,
 "nbformat_minor": 5
}
