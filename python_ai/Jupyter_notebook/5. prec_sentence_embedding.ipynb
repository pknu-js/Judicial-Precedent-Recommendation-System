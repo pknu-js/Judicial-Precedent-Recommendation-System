{
 "cells": [
  {
   "cell_type": "markdown",
   "id": "ec629387",
   "metadata": {},
   "source": [
    "# 판례 문장 임베딩\n",
    "- 판례의 문장 임베딩을 사전에 진행하여, 사용자가 검색할 시 임베딩된 벡터와 코사인 유사도만 계산할 수 있도록 한다."
   ]
  },
  {
   "cell_type": "markdown",
   "id": "faeef435",
   "metadata": {},
   "source": [
    "## 1. 패키지 로드"
   ]
  },
  {
   "cell_type": "code",
   "execution_count": 1,
   "id": "7ec3b0b2",
   "metadata": {},
   "outputs": [],
   "source": [
    "import pandas as pd\n",
    "import numpy as np\n",
    "import tensorflow as tf\n",
    "\n",
    "from tqdm.notebook import tqdm\n",
    "from sentence_transformers import SentenceTransformer"
   ]
  },
  {
   "cell_type": "markdown",
   "id": "76a2ec91",
   "metadata": {},
   "source": [
    "## 2. Pre-Trained Ko BERT 모델 로드"
   ]
  },
  {
   "cell_type": "code",
   "execution_count": 2,
   "id": "1269a193",
   "metadata": {
    "scrolled": true
   },
   "outputs": [],
   "source": [
    "with tf.device(\"/device:GPU:0\"):\n",
    "    model = SentenceTransformer('jhgan/ko-sbert-sts')"
   ]
  },
  {
   "cell_type": "markdown",
   "id": "7820e238",
   "metadata": {},
   "source": [
    "## 3. 판례 Data 로드"
   ]
  },
  {
   "cell_type": "code",
   "execution_count": 3,
   "id": "52802516",
   "metadata": {
    "scrolled": true
   },
   "outputs": [
    {
     "name": "stderr",
     "output_type": "stream",
     "text": [
      "C:\\Users\\Park Ji Seong\\anaconda3\\envs\\nlp-gpu\\lib\\site-packages\\IPython\\core\\interactiveshell.py:3457: DtypeWarning: Columns (6) have mixed types.Specify dtype option on import or set low_memory=False.\n",
      "  exec(code_obj, self.user_global_ns, self.user_ns)\n"
     ]
    },
    {
     "data": {
      "text/html": [
       "<div>\n",
       "<style scoped>\n",
       "    .dataframe tbody tr th:only-of-type {\n",
       "        vertical-align: middle;\n",
       "    }\n",
       "\n",
       "    .dataframe tbody tr th {\n",
       "        vertical-align: top;\n",
       "    }\n",
       "\n",
       "    .dataframe thead th {\n",
       "        text-align: right;\n",
       "    }\n",
       "</style>\n",
       "<table border=\"1\" class=\"dataframe\">\n",
       "  <thead>\n",
       "    <tr style=\"text-align: right;\">\n",
       "      <th></th>\n",
       "      <th>판례일련번호</th>\n",
       "      <th>사건명</th>\n",
       "      <th>사건번호</th>\n",
       "      <th>선고일자</th>\n",
       "      <th>선고</th>\n",
       "      <th>법원명</th>\n",
       "      <th>법원종류코드</th>\n",
       "      <th>사건종류명</th>\n",
       "      <th>사건종류코드</th>\n",
       "      <th>판결유형</th>\n",
       "      <th>판시사항</th>\n",
       "      <th>판결요지</th>\n",
       "      <th>참조조문</th>\n",
       "      <th>참조판례</th>\n",
       "      <th>판례내용</th>\n",
       "    </tr>\n",
       "  </thead>\n",
       "  <tbody>\n",
       "    <tr>\n",
       "      <th>0</th>\n",
       "      <td>220283</td>\n",
       "      <td>미성년자의제강간</td>\n",
       "      <td>2021노824</td>\n",
       "      <td>2022-04-15</td>\n",
       "      <td>선고</td>\n",
       "      <td>수원고법</td>\n",
       "      <td>400202</td>\n",
       "      <td>형사</td>\n",
       "      <td>400102</td>\n",
       "      <td>판결 : 확정</td>\n",
       "      <td>피고인이 카카오톡 오픈채팅방을 통해 미성년자 甲(여, 11세)을 알게 된 후 당...</td>\n",
       "      <td>피고인이 카카오톡 오픈채팅방을 통해 미성년자 甲(여, 11세)을 알게 된 후 당...</td>\n",
       "      <td>구 형법(2020. 5. 19. 법률 제17265호로 개정되기 전의 것) 제305조...</td>\n",
       "      <td>없음</td>\n",
       "      <td>【피 고 인】 피고인【항 소 인】 쌍방【검    사】 이지은 외 1인【변 호 인】 ...</td>\n",
       "    </tr>\n",
       "    <tr>\n",
       "      <th>1</th>\n",
       "      <td>220263</td>\n",
       "      <td>소송비용액확정</td>\n",
       "      <td>2022브2061</td>\n",
       "      <td>2022-04-11</td>\n",
       "      <td>자</td>\n",
       "      <td>서울고등법원</td>\n",
       "      <td>400202</td>\n",
       "      <td>가사</td>\n",
       "      <td>400103</td>\n",
       "      <td>결정</td>\n",
       "      <td>미기재</td>\n",
       "      <td>미기재</td>\n",
       "      <td>가사소송법 제37조의2, 제63조 제1항, 가사소송규칙 제95조 제1항, 구 변호사...</td>\n",
       "      <td>없음</td>\n",
       "      <td>【신청인, 피항고인】 신청인【피신청인, 항고인】 피신청인【제1심결정】 서울가정법원 ...</td>\n",
       "    </tr>\n",
       "    <tr>\n",
       "      <th>2</th>\n",
       "      <td>220249</td>\n",
       "      <td>손해배상(기)</td>\n",
       "      <td>2021나24173</td>\n",
       "      <td>2022-03-23</td>\n",
       "      <td>선고</td>\n",
       "      <td>대구고법</td>\n",
       "      <td>400202</td>\n",
       "      <td>민사</td>\n",
       "      <td>400101</td>\n",
       "      <td>판결 : 확정</td>\n",
       "      <td>甲이 乙을 상대로 소송을 제기하자 乙이 丙과 소송위임계약을 체결하여 丙이 乙을 ...</td>\n",
       "      <td>甲이 乙을 상대로 소송을 제기하자 乙이 丙과 소송위임계약을 체결하여 丙이 乙을 ...</td>\n",
       "      <td>민법 제390조, 제681조, 민사소송법 제225조, 제226조, 제231조</td>\n",
       "      <td>없음</td>\n",
       "      <td>【원고, 항소인 겸 피항소인】 원고 (소송대리인 법무법인 우정 담당변호사 김병구 외...</td>\n",
       "    </tr>\n",
       "    <tr>\n",
       "      <th>3</th>\n",
       "      <td>220261</td>\n",
       "      <td>소송비용액확정</td>\n",
       "      <td>2020스507</td>\n",
       "      <td>2022-03-22</td>\n",
       "      <td>자</td>\n",
       "      <td>대법원</td>\n",
       "      <td>400201</td>\n",
       "      <td>가사</td>\n",
       "      <td>400103</td>\n",
       "      <td>결정</td>\n",
       "      <td>마류 가사비송사건에서 변호사보수가 절차비용에 산입되는지 여부(적극)</td>\n",
       "      <td>미기재</td>\n",
       "      <td>가사소송법 제37조의2, 가사소송규칙 제95조 제1항, 구 변호사보수의 소송비용 산...</td>\n",
       "      <td>없음</td>\n",
       "      <td>【신청인(재심상대방), 재항고인】 신청인(재심상대방) (소송대리인 법무법인(유한) ...</td>\n",
       "    </tr>\n",
       "    <tr>\n",
       "      <th>4</th>\n",
       "      <td>220241</td>\n",
       "      <td>손해배상(의)[환자가 치료 도중 뇌출혈로 사망하자 의료과실에 의한 손해배상을 구하는...</td>\n",
       "      <td>2018다263434</td>\n",
       "      <td>2022-03-17</td>\n",
       "      <td>선고</td>\n",
       "      <td>대법원</td>\n",
       "      <td>400201</td>\n",
       "      <td>민사</td>\n",
       "      <td>400101</td>\n",
       "      <td>판결</td>\n",
       "      <td>의사가 의료행위를 할 때 취하여야 할 주의의무의 정도 및 기준 / 특히 환자가 ...</td>\n",
       "      <td>의사가 진찰·치료 등의 의료행위를 할 때에는 사람의 생명·신체·건강을 관리하는 ...</td>\n",
       "      <td>민법 제390조, 제750조\\n</td>\n",
       "      <td>대법원 2018. 11. 29. 선고 2016다266606, 266613 판결(공2...</td>\n",
       "      <td>【원고, 상고인】 원고 1 외 2인 (소송대리인 변호사 신현호 외 4인)【피고, 피...</td>\n",
       "    </tr>\n",
       "  </tbody>\n",
       "</table>\n",
       "</div>"
      ],
      "text/plain": [
       "   판례일련번호                                                사건명         사건번호  \\\n",
       "0  220283                                           미성년자의제강간     2021노824   \n",
       "1  220263                                            소송비용액확정    2022브2061   \n",
       "2  220249                                            손해배상(기)   2021나24173   \n",
       "3  220261                                            소송비용액확정     2020스507   \n",
       "4  220241  손해배상(의)[환자가 치료 도중 뇌출혈로 사망하자 의료과실에 의한 손해배상을 구하는...  2018다263434   \n",
       "\n",
       "         선고일자  선고     법원명  법원종류코드 사건종류명  사건종류코드     판결유형  \\\n",
       "0  2022-04-15  선고    수원고법  400202    형사  400102  판결 : 확정   \n",
       "1  2022-04-11   자  서울고등법원  400202    가사  400103       결정   \n",
       "2  2022-03-23  선고    대구고법  400202    민사  400101  판결 : 확정   \n",
       "3  2022-03-22   자     대법원  400201    가사  400103       결정   \n",
       "4  2022-03-17  선고     대법원  400201    민사  400101       판결   \n",
       "\n",
       "                                                판시사항  \\\n",
       "0    피고인이 카카오톡 오픈채팅방을 통해 미성년자 甲(여, 11세)을 알게 된 후 당...   \n",
       "1                                                미기재   \n",
       "2    甲이 乙을 상대로 소송을 제기하자 乙이 丙과 소송위임계약을 체결하여 丙이 乙을 ...   \n",
       "3              마류 가사비송사건에서 변호사보수가 절차비용에 산입되는지 여부(적극)   \n",
       "4    의사가 의료행위를 할 때 취하여야 할 주의의무의 정도 및 기준 / 특히 환자가 ...   \n",
       "\n",
       "                                                판결요지  \\\n",
       "0    피고인이 카카오톡 오픈채팅방을 통해 미성년자 甲(여, 11세)을 알게 된 후 당...   \n",
       "1                                                미기재   \n",
       "2    甲이 乙을 상대로 소송을 제기하자 乙이 丙과 소송위임계약을 체결하여 丙이 乙을 ...   \n",
       "3                                                미기재   \n",
       "4    의사가 진찰·치료 등의 의료행위를 할 때에는 사람의 생명·신체·건강을 관리하는 ...   \n",
       "\n",
       "                                                참조조문  \\\n",
       "0  구 형법(2020. 5. 19. 법률 제17265호로 개정되기 전의 것) 제305조...   \n",
       "1  가사소송법 제37조의2, 제63조 제1항, 가사소송규칙 제95조 제1항, 구 변호사...   \n",
       "2         민법 제390조, 제681조, 민사소송법 제225조, 제226조, 제231조   \n",
       "3  가사소송법 제37조의2, 가사소송규칙 제95조 제1항, 구 변호사보수의 소송비용 산...   \n",
       "4                                  민법 제390조, 제750조\\n   \n",
       "\n",
       "                                                참조판례  \\\n",
       "0                                                 없음   \n",
       "1                                                 없음   \n",
       "2                                                 없음   \n",
       "3                                                 없음   \n",
       "4  대법원 2018. 11. 29. 선고 2016다266606, 266613 판결(공2...   \n",
       "\n",
       "                                                판례내용  \n",
       "0  【피 고 인】 피고인【항 소 인】 쌍방【검    사】 이지은 외 1인【변 호 인】 ...  \n",
       "1  【신청인, 피항고인】 신청인【피신청인, 항고인】 피신청인【제1심결정】 서울가정법원 ...  \n",
       "2  【원고, 항소인 겸 피항소인】 원고 (소송대리인 법무법인 우정 담당변호사 김병구 외...  \n",
       "3  【신청인(재심상대방), 재항고인】 신청인(재심상대방) (소송대리인 법무법인(유한) ...  \n",
       "4  【원고, 상고인】 원고 1 외 2인 (소송대리인 변호사 신현호 외 4인)【피고, 피...  "
      ]
     },
     "execution_count": 3,
     "metadata": {},
     "output_type": "execute_result"
    }
   ],
   "source": [
    "prec_df = pd.read_csv(\"./data/prec_data_refine.csv\")\n",
    "prec_df.head()"
   ]
  },
  {
   "cell_type": "markdown",
   "id": "229be774",
   "metadata": {},
   "source": [
    "## 4. 판례 임베딩"
   ]
  },
  {
   "cell_type": "code",
   "execution_count": 4,
   "id": "8df93682",
   "metadata": {
    "scrolled": true
   },
   "outputs": [
    {
     "data": {
      "application/vnd.jupyter.widget-view+json": {
       "model_id": "3dbd00ca3ec545c3abbde65b0a6c0c91",
       "version_major": 2,
       "version_minor": 0
      },
      "text/plain": [
       "  0%|          | 0/83318 [00:00<?, ?it/s]"
      ]
     },
     "metadata": {},
     "output_type": "display_data"
    },
    {
     "name": "stdout",
     "output_type": "stream",
     "text": [
      "Wall time: 1h 53min 2s\n"
     ]
    }
   ],
   "source": [
    "%%time\n",
    "prec_embeddings = []\n",
    "\n",
    "with tf.device(\"/device:GPU:0\"):\n",
    "    for i in tqdm(prec_df['판례내용']): \n",
    "        prec_embeddings.append(model.encode(i))"
   ]
  },
  {
   "cell_type": "markdown",
   "id": "ac729466",
   "metadata": {},
   "source": [
    "## 5. 판례 임베딩 저장"
   ]
  },
  {
   "cell_type": "code",
   "execution_count": 5,
   "id": "8e71c009",
   "metadata": {},
   "outputs": [],
   "source": [
    "import pickle"
   ]
  },
  {
   "cell_type": "code",
   "execution_count": 6,
   "id": "e0cdc62e",
   "metadata": {},
   "outputs": [],
   "source": [
    "with open(\"./data/prec_data_refine_embeddings.pickle\", \"wb\") as fw:\n",
    "    pickle.dump(prec_embeddings, fw)"
   ]
  }
 ],
 "metadata": {
  "kernelspec": {
   "display_name": "Python 3 (ipykernel)",
   "language": "python",
   "name": "python3"
  },
  "language_info": {
   "codemirror_mode": {
    "name": "ipython",
    "version": 3
   },
   "file_extension": ".py",
   "mimetype": "text/x-python",
   "name": "python",
   "nbconvert_exporter": "python",
   "pygments_lexer": "ipython3",
   "version": "3.7.13"
  }
 },
 "nbformat": 4,
 "nbformat_minor": 5
}
