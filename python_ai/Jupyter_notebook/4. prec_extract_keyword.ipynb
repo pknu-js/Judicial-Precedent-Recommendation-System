{
 "cells": [
  {
   "cell_type": "markdown",
   "id": "06472b28",
   "metadata": {},
   "source": [
    "# 판례 키워드 추출\n",
    "- 판례 검색의 성능 향상을 위해 판례의 키워드를 추출한다.\n",
    "    - 키워드 추출에는 FastText 모델이 사용된다."
   ]
  },
  {
   "cell_type": "markdown",
   "id": "4f268bb7",
   "metadata": {},
   "source": [
    "## 1. 패키지 로드"
   ]
  },
  {
   "cell_type": "code",
   "execution_count": 1,
   "id": "8e54e674",
   "metadata": {},
   "outputs": [],
   "source": [
    "import pandas as pd\n",
    "import numpy as np\n",
    "import itertools\n",
    "\n",
    "from collections import Counter\n",
    "from konlpy.tag import Mecab\n",
    "from gensim import models\n",
    "from tqdm.notebook import tqdm\n",
    "from sklearn.metrics.pairwise import cosine_similarity"
   ]
  },
  {
   "cell_type": "markdown",
   "id": "e157a522",
   "metadata": {},
   "source": [
    "## 2. 데이터 로드"
   ]
  },
  {
   "cell_type": "code",
   "execution_count": 2,
   "id": "324990c6",
   "metadata": {
    "scrolled": true
   },
   "outputs": [
    {
     "name": "stderr",
     "output_type": "stream",
     "text": [
      "C:\\Users\\Park Ji Seong\\anaconda3\\envs\\capstone\\lib\\site-packages\\IPython\\core\\interactiveshell.py:3552: DtypeWarning: Columns (6) have mixed types.Specify dtype option on import or set low_memory=False.\n",
      "  exec(code_obj, self.user_global_ns, self.user_ns)\n"
     ]
    },
    {
     "data": {
      "text/html": [
       "<div>\n",
       "<style scoped>\n",
       "    .dataframe tbody tr th:only-of-type {\n",
       "        vertical-align: middle;\n",
       "    }\n",
       "\n",
       "    .dataframe tbody tr th {\n",
       "        vertical-align: top;\n",
       "    }\n",
       "\n",
       "    .dataframe thead th {\n",
       "        text-align: right;\n",
       "    }\n",
       "</style>\n",
       "<table border=\"1\" class=\"dataframe\">\n",
       "  <thead>\n",
       "    <tr style=\"text-align: right;\">\n",
       "      <th></th>\n",
       "      <th>판례일련번호</th>\n",
       "      <th>사건명</th>\n",
       "      <th>사건번호</th>\n",
       "      <th>선고일자</th>\n",
       "      <th>선고</th>\n",
       "      <th>법원명</th>\n",
       "      <th>법원종류코드</th>\n",
       "      <th>사건종류명</th>\n",
       "      <th>사건종류코드</th>\n",
       "      <th>판결유형</th>\n",
       "      <th>판시사항</th>\n",
       "      <th>판결요지</th>\n",
       "      <th>참조조문</th>\n",
       "      <th>참조판례</th>\n",
       "      <th>판례내용</th>\n",
       "    </tr>\n",
       "  </thead>\n",
       "  <tbody>\n",
       "    <tr>\n",
       "      <th>0</th>\n",
       "      <td>220283</td>\n",
       "      <td>미성년자의제강간</td>\n",
       "      <td>2021노824</td>\n",
       "      <td>2022-04-15</td>\n",
       "      <td>선고</td>\n",
       "      <td>수원고법</td>\n",
       "      <td>400202</td>\n",
       "      <td>형사</td>\n",
       "      <td>400102</td>\n",
       "      <td>판결 : 확정</td>\n",
       "      <td>피고인이 카카오톡 오픈채팅방을 통해 미성년자 甲(여, 11세)을 알게 된 후 당...</td>\n",
       "      <td>피고인이 카카오톡 오픈채팅방을 통해 미성년자 甲(여, 11세)을 알게 된 후 당...</td>\n",
       "      <td>구 형법(2020. 5. 19. 법률 제17265호로 개정되기 전의 것) 제305조...</td>\n",
       "      <td>없음</td>\n",
       "      <td>【피 고 인】 피고인【항 소 인】 쌍방【검    사】 이지은 외 1인【변 호 인】 ...</td>\n",
       "    </tr>\n",
       "    <tr>\n",
       "      <th>1</th>\n",
       "      <td>220263</td>\n",
       "      <td>소송비용액확정</td>\n",
       "      <td>2022브2061</td>\n",
       "      <td>2022-04-11</td>\n",
       "      <td>자</td>\n",
       "      <td>서울고등법원</td>\n",
       "      <td>400202</td>\n",
       "      <td>가사</td>\n",
       "      <td>400103</td>\n",
       "      <td>결정</td>\n",
       "      <td>미기재</td>\n",
       "      <td>미기재</td>\n",
       "      <td>가사소송법 제37조의2, 제63조 제1항, 가사소송규칙 제95조 제1항, 구 변호사...</td>\n",
       "      <td>없음</td>\n",
       "      <td>【신청인, 피항고인】 신청인【피신청인, 항고인】 피신청인【제1심결정】 서울가정법원 ...</td>\n",
       "    </tr>\n",
       "    <tr>\n",
       "      <th>2</th>\n",
       "      <td>220249</td>\n",
       "      <td>손해배상(기)</td>\n",
       "      <td>2021나24173</td>\n",
       "      <td>2022-03-23</td>\n",
       "      <td>선고</td>\n",
       "      <td>대구고법</td>\n",
       "      <td>400202</td>\n",
       "      <td>민사</td>\n",
       "      <td>400101</td>\n",
       "      <td>판결 : 확정</td>\n",
       "      <td>甲이 乙을 상대로 소송을 제기하자 乙이 丙과 소송위임계약을 체결하여 丙이 乙을 ...</td>\n",
       "      <td>甲이 乙을 상대로 소송을 제기하자 乙이 丙과 소송위임계약을 체결하여 丙이 乙을 ...</td>\n",
       "      <td>민법 제390조, 제681조, 민사소송법 제225조, 제226조, 제231조</td>\n",
       "      <td>없음</td>\n",
       "      <td>【원고, 항소인 겸 피항소인】 원고 (소송대리인 법무법인 우정 담당변호사 김병구 외...</td>\n",
       "    </tr>\n",
       "    <tr>\n",
       "      <th>3</th>\n",
       "      <td>220261</td>\n",
       "      <td>소송비용액확정</td>\n",
       "      <td>2020스507</td>\n",
       "      <td>2022-03-22</td>\n",
       "      <td>자</td>\n",
       "      <td>대법원</td>\n",
       "      <td>400201</td>\n",
       "      <td>가사</td>\n",
       "      <td>400103</td>\n",
       "      <td>결정</td>\n",
       "      <td>마류 가사비송사건에서 변호사보수가 절차비용에 산입되는지 여부(적극)</td>\n",
       "      <td>미기재</td>\n",
       "      <td>가사소송법 제37조의2, 가사소송규칙 제95조 제1항, 구 변호사보수의 소송비용 산...</td>\n",
       "      <td>없음</td>\n",
       "      <td>【신청인(재심상대방), 재항고인】 신청인(재심상대방) (소송대리인 법무법인(유한) ...</td>\n",
       "    </tr>\n",
       "    <tr>\n",
       "      <th>4</th>\n",
       "      <td>220241</td>\n",
       "      <td>손해배상(의)[환자가 치료 도중 뇌출혈로 사망하자 의료과실에 의한 손해배상을 구하는...</td>\n",
       "      <td>2018다263434</td>\n",
       "      <td>2022-03-17</td>\n",
       "      <td>선고</td>\n",
       "      <td>대법원</td>\n",
       "      <td>400201</td>\n",
       "      <td>민사</td>\n",
       "      <td>400101</td>\n",
       "      <td>판결</td>\n",
       "      <td>의사가 의료행위를 할 때 취하여야 할 주의의무의 정도 및 기준 / 특히 환자가 ...</td>\n",
       "      <td>의사가 진찰·치료 등의 의료행위를 할 때에는 사람의 생명·신체·건강을 관리하는 ...</td>\n",
       "      <td>민법 제390조, 제750조\\n</td>\n",
       "      <td>대법원 2018. 11. 29. 선고 2016다266606, 266613 판결(공2...</td>\n",
       "      <td>【원고, 상고인】 원고 1 외 2인 (소송대리인 변호사 신현호 외 4인)【피고, 피...</td>\n",
       "    </tr>\n",
       "  </tbody>\n",
       "</table>\n",
       "</div>"
      ],
      "text/plain": [
       "   판례일련번호                                                사건명         사건번호  \\\n",
       "0  220283                                           미성년자의제강간     2021노824   \n",
       "1  220263                                            소송비용액확정    2022브2061   \n",
       "2  220249                                            손해배상(기)   2021나24173   \n",
       "3  220261                                            소송비용액확정     2020스507   \n",
       "4  220241  손해배상(의)[환자가 치료 도중 뇌출혈로 사망하자 의료과실에 의한 손해배상을 구하는...  2018다263434   \n",
       "\n",
       "         선고일자  선고     법원명  법원종류코드 사건종류명  사건종류코드     판결유형  \\\n",
       "0  2022-04-15  선고    수원고법  400202    형사  400102  판결 : 확정   \n",
       "1  2022-04-11   자  서울고등법원  400202    가사  400103       결정   \n",
       "2  2022-03-23  선고    대구고법  400202    민사  400101  판결 : 확정   \n",
       "3  2022-03-22   자     대법원  400201    가사  400103       결정   \n",
       "4  2022-03-17  선고     대법원  400201    민사  400101       판결   \n",
       "\n",
       "                                                판시사항  \\\n",
       "0    피고인이 카카오톡 오픈채팅방을 통해 미성년자 甲(여, 11세)을 알게 된 후 당...   \n",
       "1                                                미기재   \n",
       "2    甲이 乙을 상대로 소송을 제기하자 乙이 丙과 소송위임계약을 체결하여 丙이 乙을 ...   \n",
       "3              마류 가사비송사건에서 변호사보수가 절차비용에 산입되는지 여부(적극)   \n",
       "4    의사가 의료행위를 할 때 취하여야 할 주의의무의 정도 및 기준 / 특히 환자가 ...   \n",
       "\n",
       "                                                판결요지  \\\n",
       "0    피고인이 카카오톡 오픈채팅방을 통해 미성년자 甲(여, 11세)을 알게 된 후 당...   \n",
       "1                                                미기재   \n",
       "2    甲이 乙을 상대로 소송을 제기하자 乙이 丙과 소송위임계약을 체결하여 丙이 乙을 ...   \n",
       "3                                                미기재   \n",
       "4    의사가 진찰·치료 등의 의료행위를 할 때에는 사람의 생명·신체·건강을 관리하는 ...   \n",
       "\n",
       "                                                참조조문  \\\n",
       "0  구 형법(2020. 5. 19. 법률 제17265호로 개정되기 전의 것) 제305조...   \n",
       "1  가사소송법 제37조의2, 제63조 제1항, 가사소송규칙 제95조 제1항, 구 변호사...   \n",
       "2         민법 제390조, 제681조, 민사소송법 제225조, 제226조, 제231조   \n",
       "3  가사소송법 제37조의2, 가사소송규칙 제95조 제1항, 구 변호사보수의 소송비용 산...   \n",
       "4                                  민법 제390조, 제750조\\n   \n",
       "\n",
       "                                                참조판례  \\\n",
       "0                                                 없음   \n",
       "1                                                 없음   \n",
       "2                                                 없음   \n",
       "3                                                 없음   \n",
       "4  대법원 2018. 11. 29. 선고 2016다266606, 266613 판결(공2...   \n",
       "\n",
       "                                                판례내용  \n",
       "0  【피 고 인】 피고인【항 소 인】 쌍방【검    사】 이지은 외 1인【변 호 인】 ...  \n",
       "1  【신청인, 피항고인】 신청인【피신청인, 항고인】 피신청인【제1심결정】 서울가정법원 ...  \n",
       "2  【원고, 항소인 겸 피항소인】 원고 (소송대리인 법무법인 우정 담당변호사 김병구 외...  \n",
       "3  【신청인(재심상대방), 재항고인】 신청인(재심상대방) (소송대리인 법무법인(유한) ...  \n",
       "4  【원고, 상고인】 원고 1 외 2인 (소송대리인 변호사 신현호 외 4인)【피고, 피...  "
      ]
     },
     "execution_count": 2,
     "metadata": {},
     "output_type": "execute_result"
    }
   ],
   "source": [
    "prec_df = pd.read_csv(\"./data/prec_data_refine.csv\", encoding='utf-8-sig')\n",
    "prec_df.head()"
   ]
  },
  {
   "cell_type": "code",
   "execution_count": 3,
   "id": "65207ed9",
   "metadata": {},
   "outputs": [
    {
     "name": "stdout",
     "output_type": "stream",
     "text": [
      "<class 'pandas.core.frame.DataFrame'>\n",
      "RangeIndex: 83318 entries, 0 to 83317\n",
      "Data columns (total 15 columns):\n",
      " #   Column  Non-Null Count  Dtype \n",
      "---  ------  --------------  ----- \n",
      " 0   판례일련번호  83318 non-null  int64 \n",
      " 1   사건명     83318 non-null  object\n",
      " 2   사건번호    83318 non-null  object\n",
      " 3   선고일자    83318 non-null  object\n",
      " 4   선고      83318 non-null  object\n",
      " 5   법원명     83318 non-null  object\n",
      " 6   법원종류코드  83318 non-null  object\n",
      " 7   사건종류명   83318 non-null  object\n",
      " 8   사건종류코드  83318 non-null  object\n",
      " 9   판결유형    83318 non-null  object\n",
      " 10  판시사항    83318 non-null  object\n",
      " 11  판결요지    83318 non-null  object\n",
      " 12  참조조문    83318 non-null  object\n",
      " 13  참조판례    83314 non-null  object\n",
      " 14  판례내용    83318 non-null  object\n",
      "dtypes: int64(1), object(14)\n",
      "memory usage: 9.5+ MB\n"
     ]
    }
   ],
   "source": [
    "prec_df.info()"
   ]
  },
  {
   "cell_type": "code",
   "execution_count": 4,
   "id": "e2b882ae",
   "metadata": {
    "scrolled": false
   },
   "outputs": [],
   "source": [
    "# 전처리 개선전 임시 코드\n",
    "prec_df['참조판례'] = prec_df['참조판례'].fillna(value='없음')"
   ]
  },
  {
   "cell_type": "markdown",
   "id": "06d869e4",
   "metadata": {},
   "source": [
    "## 3. 판례 전처리"
   ]
  },
  {
   "cell_type": "markdown",
   "id": "42a9434e",
   "metadata": {},
   "source": [
    "### 1) 불용어 선정을 위한 명사 추출"
   ]
  },
  {
   "cell_type": "code",
   "execution_count": 5,
   "id": "69e7b777",
   "metadata": {},
   "outputs": [],
   "source": [
    "# 1. Mecab load\n",
    "mecab = Mecab('C:\\mecab\\mecab-ko-dic')"
   ]
  },
  {
   "cell_type": "code",
   "execution_count": 6,
   "id": "4e8b2cb6",
   "metadata": {},
   "outputs": [
    {
     "data": {
      "application/json": {
       "ascii": false,
       "bar_format": null,
       "colour": null,
       "elapsed": 0.010999917984008789,
       "initial": 0,
       "n": 0,
       "ncols": null,
       "nrows": 29,
       "postfix": null,
       "prefix": "",
       "rate": null,
       "total": 83318,
       "unit": "it",
       "unit_divisor": 1000,
       "unit_scale": false
      },
      "application/vnd.jupyter.widget-view+json": {
       "model_id": "41d9f0dc3db944648e5e87eb6581c118",
       "version_major": 2,
       "version_minor": 0
      },
      "text/plain": [
       "  0%|          | 0/83318 [00:00<?, ?it/s]"
      ]
     },
     "metadata": {},
     "output_type": "display_data"
    }
   ],
   "source": [
    "# 2. 판시사항, 판결요지, 판례내용 합치기\n",
    "df_X = []\n",
    "\n",
    "for idx in tqdm(range(len(prec_df))):\n",
    "    if prec_df['판시사항'][idx] == prec_df['판결요지'][idx]:\n",
    "        x = prec_df['판결요지'][idx] + prec_df['판례내용'][idx]\n",
    "    else:\n",
    "        x = prec_df['판시사항'][idx] + prec_df['판결요지'][idx] + prec_df['판례내용'][idx]\n",
    "    df_X.append(x)"
   ]
  },
  {
   "cell_type": "code",
   "execution_count": 7,
   "id": "d7020f5d",
   "metadata": {},
   "outputs": [
    {
     "data": {
      "text/html": [
       "<div>\n",
       "<style scoped>\n",
       "    .dataframe tbody tr th:only-of-type {\n",
       "        vertical-align: middle;\n",
       "    }\n",
       "\n",
       "    .dataframe tbody tr th {\n",
       "        vertical-align: top;\n",
       "    }\n",
       "\n",
       "    .dataframe thead th {\n",
       "        text-align: right;\n",
       "    }\n",
       "</style>\n",
       "<table border=\"1\" class=\"dataframe\">\n",
       "  <thead>\n",
       "    <tr style=\"text-align: right;\">\n",
       "      <th></th>\n",
       "      <th>X</th>\n",
       "    </tr>\n",
       "  </thead>\n",
       "  <tbody>\n",
       "    <tr>\n",
       "      <th>0</th>\n",
       "      <td>피고인이 카카오톡 오픈채팅방을 통해 미성년자 甲(여, 11세)을 알게 된 후 당...</td>\n",
       "    </tr>\n",
       "    <tr>\n",
       "      <th>1</th>\n",
       "      <td>미기재【신청인, 피항고인】 신청인【피신청인, 항고인】 피신청인【제1심결정】 서울가정...</td>\n",
       "    </tr>\n",
       "    <tr>\n",
       "      <th>2</th>\n",
       "      <td>甲이 乙을 상대로 소송을 제기하자 乙이 丙과 소송위임계약을 체결하여 丙이 乙을 ...</td>\n",
       "    </tr>\n",
       "    <tr>\n",
       "      <th>3</th>\n",
       "      <td>마류 가사비송사건에서 변호사보수가 절차비용에 산입되는지 여부(적극)미기재【신청인(재...</td>\n",
       "    </tr>\n",
       "    <tr>\n",
       "      <th>4</th>\n",
       "      <td>의사가 의료행위를 할 때 취하여야 할 주의의무의 정도 및 기준 / 특히 환자가 ...</td>\n",
       "    </tr>\n",
       "  </tbody>\n",
       "</table>\n",
       "</div>"
      ],
      "text/plain": [
       "                                                   X\n",
       "0    피고인이 카카오톡 오픈채팅방을 통해 미성년자 甲(여, 11세)을 알게 된 후 당...\n",
       "1  미기재【신청인, 피항고인】 신청인【피신청인, 항고인】 피신청인【제1심결정】 서울가정...\n",
       "2    甲이 乙을 상대로 소송을 제기하자 乙이 丙과 소송위임계약을 체결하여 丙이 乙을 ...\n",
       "3  마류 가사비송사건에서 변호사보수가 절차비용에 산입되는지 여부(적극)미기재【신청인(재...\n",
       "4    의사가 의료행위를 할 때 취하여야 할 주의의무의 정도 및 기준 / 특히 환자가 ..."
      ]
     },
     "execution_count": 7,
     "metadata": {},
     "output_type": "execute_result"
    }
   ],
   "source": [
    "# 3. 데이터프레임화\n",
    "df_X = pd.DataFrame(columns=['X'], data=df_X)\n",
    "df_X.head()"
   ]
  },
  {
   "cell_type": "code",
   "execution_count": 8,
   "id": "fa8d205a",
   "metadata": {},
   "outputs": [
    {
     "name": "stderr",
     "output_type": "stream",
     "text": [
      "C:\\Users\\Park Ji Seong\\anaconda3\\envs\\capstone\\lib\\site-packages\\ipykernel_launcher.py:2: FutureWarning: The default value of regex will change from True to False in a future version.\n",
      "  \n"
     ]
    }
   ],
   "source": [
    "# 4. 한글을 제외하고 모두 제거\n",
    "df_X['X'] = df_X['X'].str.replace('[^가-힣 ]', '')"
   ]
  },
  {
   "cell_type": "code",
   "execution_count": 9,
   "id": "1a7e9c96",
   "metadata": {},
   "outputs": [
    {
     "data": {
      "application/json": {
       "ascii": false,
       "bar_format": null,
       "colour": null,
       "elapsed": 0.010043144226074219,
       "initial": 0,
       "n": 0,
       "ncols": null,
       "nrows": 29,
       "postfix": null,
       "prefix": "",
       "rate": null,
       "total": 83318,
       "unit": "it",
       "unit_divisor": 1000,
       "unit_scale": false
      },
      "application/vnd.jupyter.widget-view+json": {
       "model_id": "0a97b871abef47c893396f37b7ba030a",
       "version_major": 2,
       "version_minor": 0
      },
      "text/plain": [
       "  0%|          | 0/83318 [00:00<?, ?it/s]"
      ]
     },
     "metadata": {},
     "output_type": "display_data"
    }
   ],
   "source": [
    "# 5. 명사 추출\n",
    "nouns_list = []\n",
    "\n",
    "for x in tqdm(df_X['X']):\n",
    "    nouns = mecab.nouns(x)\n",
    "    nouns_list.append(nouns)"
   ]
  },
  {
   "cell_type": "code",
   "execution_count": 10,
   "id": "72af520d",
   "metadata": {},
   "outputs": [],
   "source": [
    "# 4. 리스트 1차원으로 만들기\n",
    "nouns_flatten = [y for x in nouns_list for y in x]"
   ]
  },
  {
   "cell_type": "code",
   "execution_count": 14,
   "id": "04aca5b5",
   "metadata": {
    "scrolled": true
   },
   "outputs": [],
   "source": [
    "# 5. 카운트\n",
    "nouns_count = Counter(nouns_flatten)"
   ]
  },
  {
   "cell_type": "code",
   "execution_count": 12,
   "id": "cb1169a7",
   "metadata": {},
   "outputs": [
    {
     "data": {
      "application/json": {
       "ascii": false,
       "bar_format": null,
       "colour": null,
       "elapsed": 0.00899958610534668,
       "initial": 0,
       "n": 0,
       "ncols": null,
       "nrows": 29,
       "postfix": null,
       "prefix": "",
       "rate": null,
       "total": 5000,
       "unit": "it",
       "unit_divisor": 1000,
       "unit_scale": false
      },
      "application/vnd.jupyter.widget-view+json": {
       "model_id": "f80223b9ca9d4b658c3f1140285a0711",
       "version_major": 2,
       "version_minor": 0
      },
      "text/plain": [
       "  0%|          | 0/5000 [00:00<?, ?it/s]"
      ]
     },
     "metadata": {},
     "output_type": "display_data"
    }
   ],
   "source": [
    "# 6. 불용어 선정 : 단어 길이 2미만, 등장횟수 9만번 이상\n",
    "stopword = []\n",
    "\n",
    "for word, count in tqdm(nouns_count.most_common(5000)):\n",
    "    if (count >= 90000) | (len(word) < 2):\n",
    "        stopword.append(word)"
   ]
  },
  {
   "cell_type": "code",
   "execution_count": 15,
   "id": "0bfae7c9",
   "metadata": {},
   "outputs": [
    {
     "data": {
      "application/json": {
       "ascii": false,
       "bar_format": null,
       "colour": null,
       "elapsed": 0.010004520416259766,
       "initial": 0,
       "n": 0,
       "ncols": null,
       "nrows": 29,
       "postfix": null,
       "prefix": "",
       "rate": null,
       "total": 83318,
       "unit": "it",
       "unit_divisor": 1000,
       "unit_scale": false
      },
      "application/vnd.jupyter.widget-view+json": {
       "model_id": "a6cc197fa4d94b4983d02d3a003e8390",
       "version_major": 2,
       "version_minor": 0
      },
      "text/plain": [
       "  0%|          | 0/83318 [00:00<?, ?it/s]"
      ]
     },
     "metadata": {},
     "output_type": "display_data"
    }
   ],
   "source": [
    "# 7. 불용어를 제외하고 명사 추출\n",
    "refined_nouns_list = []\n",
    "\n",
    "for nouns in tqdm(nouns_list):\n",
    "    temp_nouns_list = []\n",
    "    for noun in nouns:\n",
    "        if (noun not in stopword) and (len(noun) >= 2):\n",
    "            temp_nouns_list.append(noun)\n",
    "    temp_nouns_list = list(set(temp_nouns_list))\n",
    "    refined_nouns_list.append(temp_nouns_list)"
   ]
  },
  {
   "cell_type": "markdown",
   "id": "3287f63f",
   "metadata": {},
   "source": [
    "### 2) 키워드 추출"
   ]
  },
  {
   "cell_type": "code",
   "execution_count": 16,
   "id": "71b17ce9",
   "metadata": {},
   "outputs": [],
   "source": [
    "# 1. 모델 로드\n",
    "fasttext_model = models.fasttext.load_facebook_model('./fasttext/cc.ko.300.bin')"
   ]
  },
  {
   "cell_type": "code",
   "execution_count": 17,
   "id": "90cbab0c",
   "metadata": {},
   "outputs": [],
   "source": [
    "# 2. 키워드 추출을 위한 Max Sum Similarity 함수 정의\n",
    "def max_sum_sim(doc_embedding, candidate_embeddings, words, top_n=5, nr_candidates=10):\n",
    "    # 문서와 각 키워드들 간의 유사도\n",
    "    distances = cosine_similarity(doc_embedding, candidate_embeddings)\n",
    "\n",
    "    # 각 키워드들 간의 유사도\n",
    "    distances_candidates = cosine_similarity(candidate_embeddings, \n",
    "                                            candidate_embeddings)\n",
    "\n",
    "    # 코사인 유사도에 기반하여 키워드들 중 상위 top_n개의 단어를 pick.\n",
    "    words_idx = list(distances.argsort()[0][-nr_candidates:])\n",
    "    words_vals = [words[index] for index in words_idx]\n",
    "    distances_candidates = distances_candidates[np.ix_(words_idx, words_idx)]\n",
    "\n",
    "    # 각 키워드들 중에서 가장 덜 유사한 키워드들간의 조합을 계산\n",
    "    min_sim = np.inf\n",
    "    candidate = None\n",
    "    for combination in itertools.combinations(range(len(words_idx)), top_n):\n",
    "        sim = sum([distances_candidates[i][j] for i in combination for j in combination if i != j])\n",
    "        if sim < min_sim:\n",
    "            candidate = combination\n",
    "            min_sim = sim\n",
    "\n",
    "    return [words_vals[idx] for idx in candidate]"
   ]
  },
  {
   "cell_type": "code",
   "execution_count": 18,
   "id": "3d92c491",
   "metadata": {},
   "outputs": [
    {
     "data": {
      "application/json": {
       "ascii": false,
       "bar_format": null,
       "colour": null,
       "elapsed": 0.013999462127685547,
       "initial": 0,
       "n": 0,
       "ncols": null,
       "nrows": 29,
       "postfix": null,
       "prefix": "",
       "rate": null,
       "total": 83318,
       "unit": "it",
       "unit_divisor": 1000,
       "unit_scale": false
      },
      "application/vnd.jupyter.widget-view+json": {
       "model_id": "fec7452f939541169568d674c9257274",
       "version_major": 2,
       "version_minor": 0
      },
      "text/plain": [
       "  0%|          | 0/83318 [00:00<?, ?it/s]"
      ]
     },
     "metadata": {},
     "output_type": "display_data"
    }
   ],
   "source": [
    "# 3. 단어(명사) 임베딩\n",
    "prec_keywords = []\n",
    "candidate_embeddings = []\n",
    "\n",
    "for nouns in tqdm(refined_nouns_list):\n",
    "    candidate_embedding = []\n",
    "    for noun in nouns:\n",
    "        candidate_embedding.append(fasttext_model.wv.get_vector(noun))\n",
    "    candidate_embeddings.append(candidate_embedding)"
   ]
  },
  {
   "cell_type": "code",
   "execution_count": 19,
   "id": "77601e6b",
   "metadata": {},
   "outputs": [
    {
     "data": {
      "application/json": {
       "ascii": false,
       "bar_format": null,
       "colour": null,
       "elapsed": 0.014275789260864258,
       "initial": 0,
       "n": 0,
       "ncols": null,
       "nrows": 29,
       "postfix": null,
       "prefix": "",
       "rate": null,
       "total": 83318,
       "unit": "it",
       "unit_divisor": 1000,
       "unit_scale": false
      },
      "application/vnd.jupyter.widget-view+json": {
       "model_id": "314aa6250ab846a1bc8e5c67ec8b0a9f",
       "version_major": 2,
       "version_minor": 0
      },
      "text/plain": [
       "  0%|          | 0/83318 [00:00<?, ?it/s]"
      ]
     },
     "metadata": {},
     "output_type": "display_data"
    },
    {
     "name": "stdout",
     "output_type": "stream",
     "text": [
      "Wall time: 2h 55min 54s\n"
     ]
    }
   ],
   "source": [
    "%%time\n",
    "# 4. 키워드 추출\n",
    "for i in tqdm(range(len(refined_nouns_list))):\n",
    "    # 문장 임베딩\n",
    "    doc_embedding = fasttext_model.wv.get_sentence_vector(df_X['X'][i])\n",
    "    \n",
    "    # 단어 임베딩\n",
    "    candidate_embedding = fasttext_model.wv.get_mean_vector(refined_nouns_list[i])\n",
    "    \n",
    "    if len(refined_nouns_list[i]) < 20:\n",
    "        keywords = max_sum_sim(doc_embedding.reshape(1, -1), candidate_embeddings[i], refined_nouns_list[i], 5, len(refined_nouns_list[i]))\n",
    "    else:\n",
    "        keywords = max_sum_sim(doc_embedding.reshape(1, -1), candidate_embeddings[i], refined_nouns_list[i], 5, 20)\n",
    "    prec_keywords.append(keywords)"
   ]
  },
  {
   "cell_type": "markdown",
   "id": "6f38b65e",
   "metadata": {},
   "source": [
    "## 4. 키워드 저장"
   ]
  },
  {
   "cell_type": "code",
   "execution_count": 20,
   "id": "dea54018",
   "metadata": {},
   "outputs": [
    {
     "data": {
      "application/json": {
       "ascii": false,
       "bar_format": null,
       "colour": null,
       "elapsed": 0.012476682662963867,
       "initial": 0,
       "n": 0,
       "ncols": null,
       "nrows": 29,
       "postfix": null,
       "prefix": "",
       "rate": null,
       "total": 83318,
       "unit": "it",
       "unit_divisor": 1000,
       "unit_scale": false
      },
      "application/vnd.jupyter.widget-view+json": {
       "model_id": "8be3842ecf874ffaac96a3473521fd8d",
       "version_major": 2,
       "version_minor": 0
      },
      "text/plain": [
       "  0%|          | 0/83318 [00:00<?, ?it/s]"
      ]
     },
     "metadata": {},
     "output_type": "display_data"
    }
   ],
   "source": [
    "join_list = []\n",
    "\n",
    "for keywords in tqdm(prec_keywords):\n",
    "    join_keywords = ', '.join(keywords)\n",
    "    join_list.append(join_keywords)"
   ]
  },
  {
   "cell_type": "code",
   "execution_count": 21,
   "id": "e8351ee8",
   "metadata": {},
   "outputs": [],
   "source": [
    "prec_df['키워드'] = join_list"
   ]
  },
  {
   "cell_type": "code",
   "execution_count": 22,
   "id": "8589f30b",
   "metadata": {
    "scrolled": true
   },
   "outputs": [
    {
     "data": {
      "text/html": [
       "<div>\n",
       "<style scoped>\n",
       "    .dataframe tbody tr th:only-of-type {\n",
       "        vertical-align: middle;\n",
       "    }\n",
       "\n",
       "    .dataframe tbody tr th {\n",
       "        vertical-align: top;\n",
       "    }\n",
       "\n",
       "    .dataframe thead th {\n",
       "        text-align: right;\n",
       "    }\n",
       "</style>\n",
       "<table border=\"1\" class=\"dataframe\">\n",
       "  <thead>\n",
       "    <tr style=\"text-align: right;\">\n",
       "      <th></th>\n",
       "      <th>판례일련번호</th>\n",
       "      <th>사건명</th>\n",
       "      <th>사건번호</th>\n",
       "      <th>선고일자</th>\n",
       "      <th>선고</th>\n",
       "      <th>법원명</th>\n",
       "      <th>법원종류코드</th>\n",
       "      <th>사건종류명</th>\n",
       "      <th>사건종류코드</th>\n",
       "      <th>판결유형</th>\n",
       "      <th>판시사항</th>\n",
       "      <th>판결요지</th>\n",
       "      <th>참조조문</th>\n",
       "      <th>참조판례</th>\n",
       "      <th>판례내용</th>\n",
       "      <th>키워드</th>\n",
       "    </tr>\n",
       "  </thead>\n",
       "  <tbody>\n",
       "    <tr>\n",
       "      <th>0</th>\n",
       "      <td>220283</td>\n",
       "      <td>미성년자의제강간</td>\n",
       "      <td>2021노824</td>\n",
       "      <td>2022-04-15</td>\n",
       "      <td>선고</td>\n",
       "      <td>수원고법</td>\n",
       "      <td>400202</td>\n",
       "      <td>형사</td>\n",
       "      <td>400102</td>\n",
       "      <td>판결 : 확정</td>\n",
       "      <td>피고인이 카카오톡 오픈채팅방을 통해 미성년자 甲(여, 11세)을 알게 된 후 당...</td>\n",
       "      <td>피고인이 카카오톡 오픈채팅방을 통해 미성년자 甲(여, 11세)을 알게 된 후 당...</td>\n",
       "      <td>구 형법(2020. 5. 19. 법률 제17265호로 개정되기 전의 것) 제305조...</td>\n",
       "      <td>없음</td>\n",
       "      <td>【피 고 인】 피고인【항 소 인】 쌍방【검    사】 이지은 외 1인【변 호 인】 ...</td>\n",
       "      <td>미연, 제공, 자의, 그것, 미만</td>\n",
       "    </tr>\n",
       "    <tr>\n",
       "      <th>1</th>\n",
       "      <td>220263</td>\n",
       "      <td>소송비용액확정</td>\n",
       "      <td>2022브2061</td>\n",
       "      <td>2022-04-11</td>\n",
       "      <td>자</td>\n",
       "      <td>서울고등법원</td>\n",
       "      <td>400202</td>\n",
       "      <td>가사</td>\n",
       "      <td>400103</td>\n",
       "      <td>결정</td>\n",
       "      <td>미기재</td>\n",
       "      <td>미기재</td>\n",
       "      <td>가사소송법 제37조의2, 제63조 제1항, 가사소송규칙 제95조 제1항, 구 변호사...</td>\n",
       "      <td>없음</td>\n",
       "      <td>【신청인, 피항고인】 신청인【피신청인, 항고인】 피신청인【제1심결정】 서울가정법원 ...</td>\n",
       "      <td>청인, 규칙, 첨부, 원임, 취하</td>\n",
       "    </tr>\n",
       "    <tr>\n",
       "      <th>2</th>\n",
       "      <td>220249</td>\n",
       "      <td>손해배상(기)</td>\n",
       "      <td>2021나24173</td>\n",
       "      <td>2022-03-23</td>\n",
       "      <td>선고</td>\n",
       "      <td>대구고법</td>\n",
       "      <td>400202</td>\n",
       "      <td>민사</td>\n",
       "      <td>400101</td>\n",
       "      <td>판결 : 확정</td>\n",
       "      <td>甲이 乙을 상대로 소송을 제기하자 乙이 丙과 소송위임계약을 체결하여 丙이 乙을 ...</td>\n",
       "      <td>甲이 乙을 상대로 소송을 제기하자 乙이 丙과 소송위임계약을 체결하여 丙이 乙을 ...</td>\n",
       "      <td>민법 제390조, 제681조, 민사소송법 제225조, 제226조, 제231조</td>\n",
       "      <td>없음</td>\n",
       "      <td>【원고, 항소인 겸 피항소인】 원고 (소송대리인 법무법인 우정 담당변호사 김병구 외...</td>\n",
       "      <td>인피, 취하, 그것, 방안, 미만</td>\n",
       "    </tr>\n",
       "    <tr>\n",
       "      <th>3</th>\n",
       "      <td>220261</td>\n",
       "      <td>소송비용액확정</td>\n",
       "      <td>2020스507</td>\n",
       "      <td>2022-03-22</td>\n",
       "      <td>자</td>\n",
       "      <td>대법원</td>\n",
       "      <td>400201</td>\n",
       "      <td>가사</td>\n",
       "      <td>400103</td>\n",
       "      <td>결정</td>\n",
       "      <td>마류 가사비송사건에서 변호사보수가 절차비용에 산입되는지 여부(적극)</td>\n",
       "      <td>미기재</td>\n",
       "      <td>가사소송법 제37조의2, 가사소송규칙 제95조 제1항, 구 변호사보수의 소송비용 산...</td>\n",
       "      <td>없음</td>\n",
       "      <td>【신청인(재심상대방), 재항고인】 신청인(재심상대방) (소송대리인 법무법인(유한) ...</td>\n",
       "      <td>미기, 담당, 영향, 개정, 용액</td>\n",
       "    </tr>\n",
       "    <tr>\n",
       "      <th>4</th>\n",
       "      <td>220241</td>\n",
       "      <td>손해배상(의)[환자가 치료 도중 뇌출혈로 사망하자 의료과실에 의한 손해배상을 구하는...</td>\n",
       "      <td>2018다263434</td>\n",
       "      <td>2022-03-17</td>\n",
       "      <td>선고</td>\n",
       "      <td>대법원</td>\n",
       "      <td>400201</td>\n",
       "      <td>민사</td>\n",
       "      <td>400101</td>\n",
       "      <td>판결</td>\n",
       "      <td>의사가 의료행위를 할 때 취하여야 할 주의의무의 정도 및 기준 / 특히 환자가 ...</td>\n",
       "      <td>의사가 진찰·치료 등의 의료행위를 할 때에는 사람의 생명·신체·건강을 관리하는 ...</td>\n",
       "      <td>민법 제390조, 제750조\\n</td>\n",
       "      <td>대법원 2018. 11. 29. 선고 2016다266606, 266613 판결(공2...</td>\n",
       "      <td>【원고, 상고인】 원고 1 외 2인 (소송대리인 변호사 신현호 외 4인)【피고, 피...</td>\n",
       "      <td>두피, 참조, 구토, 사람, 정확</td>\n",
       "    </tr>\n",
       "  </tbody>\n",
       "</table>\n",
       "</div>"
      ],
      "text/plain": [
       "   판례일련번호                                                사건명         사건번호  \\\n",
       "0  220283                                           미성년자의제강간     2021노824   \n",
       "1  220263                                            소송비용액확정    2022브2061   \n",
       "2  220249                                            손해배상(기)   2021나24173   \n",
       "3  220261                                            소송비용액확정     2020스507   \n",
       "4  220241  손해배상(의)[환자가 치료 도중 뇌출혈로 사망하자 의료과실에 의한 손해배상을 구하는...  2018다263434   \n",
       "\n",
       "         선고일자  선고     법원명  법원종류코드 사건종류명  사건종류코드     판결유형  \\\n",
       "0  2022-04-15  선고    수원고법  400202    형사  400102  판결 : 확정   \n",
       "1  2022-04-11   자  서울고등법원  400202    가사  400103       결정   \n",
       "2  2022-03-23  선고    대구고법  400202    민사  400101  판결 : 확정   \n",
       "3  2022-03-22   자     대법원  400201    가사  400103       결정   \n",
       "4  2022-03-17  선고     대법원  400201    민사  400101       판결   \n",
       "\n",
       "                                                판시사항  \\\n",
       "0    피고인이 카카오톡 오픈채팅방을 통해 미성년자 甲(여, 11세)을 알게 된 후 당...   \n",
       "1                                                미기재   \n",
       "2    甲이 乙을 상대로 소송을 제기하자 乙이 丙과 소송위임계약을 체결하여 丙이 乙을 ...   \n",
       "3              마류 가사비송사건에서 변호사보수가 절차비용에 산입되는지 여부(적극)   \n",
       "4    의사가 의료행위를 할 때 취하여야 할 주의의무의 정도 및 기준 / 특히 환자가 ...   \n",
       "\n",
       "                                                판결요지  \\\n",
       "0    피고인이 카카오톡 오픈채팅방을 통해 미성년자 甲(여, 11세)을 알게 된 후 당...   \n",
       "1                                                미기재   \n",
       "2    甲이 乙을 상대로 소송을 제기하자 乙이 丙과 소송위임계약을 체결하여 丙이 乙을 ...   \n",
       "3                                                미기재   \n",
       "4    의사가 진찰·치료 등의 의료행위를 할 때에는 사람의 생명·신체·건강을 관리하는 ...   \n",
       "\n",
       "                                                참조조문  \\\n",
       "0  구 형법(2020. 5. 19. 법률 제17265호로 개정되기 전의 것) 제305조...   \n",
       "1  가사소송법 제37조의2, 제63조 제1항, 가사소송규칙 제95조 제1항, 구 변호사...   \n",
       "2         민법 제390조, 제681조, 민사소송법 제225조, 제226조, 제231조   \n",
       "3  가사소송법 제37조의2, 가사소송규칙 제95조 제1항, 구 변호사보수의 소송비용 산...   \n",
       "4                                  민법 제390조, 제750조\\n   \n",
       "\n",
       "                                                참조판례  \\\n",
       "0                                                 없음   \n",
       "1                                                 없음   \n",
       "2                                                 없음   \n",
       "3                                                 없음   \n",
       "4  대법원 2018. 11. 29. 선고 2016다266606, 266613 판결(공2...   \n",
       "\n",
       "                                                판례내용                 키워드  \n",
       "0  【피 고 인】 피고인【항 소 인】 쌍방【검    사】 이지은 외 1인【변 호 인】 ...  미연, 제공, 자의, 그것, 미만  \n",
       "1  【신청인, 피항고인】 신청인【피신청인, 항고인】 피신청인【제1심결정】 서울가정법원 ...  청인, 규칙, 첨부, 원임, 취하  \n",
       "2  【원고, 항소인 겸 피항소인】 원고 (소송대리인 법무법인 우정 담당변호사 김병구 외...  인피, 취하, 그것, 방안, 미만  \n",
       "3  【신청인(재심상대방), 재항고인】 신청인(재심상대방) (소송대리인 법무법인(유한) ...  미기, 담당, 영향, 개정, 용액  \n",
       "4  【원고, 상고인】 원고 1 외 2인 (소송대리인 변호사 신현호 외 4인)【피고, 피...  두피, 참조, 구토, 사람, 정확  "
      ]
     },
     "execution_count": 22,
     "metadata": {},
     "output_type": "execute_result"
    }
   ],
   "source": [
    "prec_df.head()"
   ]
  },
  {
   "cell_type": "code",
   "execution_count": 23,
   "id": "30a8074d",
   "metadata": {},
   "outputs": [],
   "source": [
    "prec_df.to_csv('./data/prec_data_keyword.csv', encoding='utf-8-sig', index=False)"
   ]
  }
 ],
 "metadata": {
  "kernelspec": {
   "display_name": "Python 3 (ipykernel)",
   "language": "python",
   "name": "python3"
  },
  "language_info": {
   "codemirror_mode": {
    "name": "ipython",
    "version": 3
   },
   "file_extension": ".py",
   "mimetype": "text/x-python",
   "name": "python",
   "nbconvert_exporter": "python",
   "pygments_lexer": "ipython3",
   "version": "3.7.13"
  }
 },
 "nbformat": 4,
 "nbformat_minor": 5
}
